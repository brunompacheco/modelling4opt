{
 "cells": [
  {
   "cell_type": "code",
   "execution_count": 1,
   "id": "preceding-conspiracy",
   "metadata": {
    "slideshow": {
     "slide_type": "skip"
    }
   },
   "outputs": [],
   "source": [
    "import numpy as np\n",
    "\n",
    "from gurobipy import Model, GRB"
   ]
  },
  {
   "cell_type": "markdown",
   "id": "positive-flood",
   "metadata": {
    "slideshow": {
     "slide_type": "slide"
    }
   },
   "source": [
    "# Refinery Optimisation\n",
    "\n",
    "Bruno M. Pacheco - 16100865"
   ]
  },
  {
   "cell_type": "markdown",
   "id": "apparent-opposition",
   "metadata": {
    "slideshow": {
     "slide_type": "slide"
    }
   },
   "source": [
    "## Problem Definition\n",
    "\n",
    "The refinery transforms **crude oil** in petrols and fuels to be sold. Thus, we want to **maximize profit** in the daily operation."
   ]
  },
  {
   "cell_type": "markdown",
   "id": "signed-brazilian",
   "metadata": {
    "slideshow": {
     "slide_type": "fragment"
    }
   },
   "source": [
    "<img src=\"Refinery.png\">"
   ]
  },
  {
   "cell_type": "code",
   "execution_count": 2,
   "id": "classified-memorabilia",
   "metadata": {
    "slideshow": {
     "slide_type": "fragment"
    }
   },
   "outputs": [
    {
     "name": "stdout",
     "output_type": "stream",
     "text": [
      "Academic license - for non-commercial use only - expires 2021-06-12\n",
      "Using license file /home/bruno/gurobi.lic\n"
     ]
    }
   ],
   "source": [
    "m = Model('Refinery')"
   ]
  },
  {
   "cell_type": "markdown",
   "id": "streaming-bumper",
   "metadata": {
    "slideshow": {
     "slide_type": "slide"
    }
   },
   "source": [
    "### Supply\n",
    "\n",
    "Crude oil 1 and crude oil 2 are available for production in a fixed rate of 20 000 and 30 000 barrels a day resp."
   ]
  },
  {
   "cell_type": "markdown",
   "id": "massive-scene",
   "metadata": {
    "slideshow": {
     "slide_type": "slide"
    }
   },
   "source": [
    "### Distillation\n",
    "\n",
    "Splits the two types of crude oil in different subproducts, with a bit of waste, and at most 45 000 barrels of crude oil a day.\n",
    "\n",
    "|               | Crude Oil 1 (CRA) | Crude Oil 2 (CRB) |\n",
    "|:--------------|:-----------:|:-----------:|\n",
    "| (LN) Light naphta  |     0.1     |     0.15    |\n",
    "| (MN) Medium naphta |     0.2     |     0.25    |\n",
    "| (HN) Heavy naphta  |     0.2     |     0.18    |\n",
    "| (LO) Light oil     |     0.12    |     0.08    |\n",
    "| (HO) Heavy oil     |     0.2     |     0.19    |\n",
    "| (R)  Residuum      |     0.13    |     0.12    |"
   ]
  },
  {
   "cell_type": "markdown",
   "id": "confidential-experiment",
   "metadata": {
    "slideshow": {
     "slide_type": "slide"
    }
   },
   "source": [
    "### Reforming\n",
    "\n",
    "Can be applied to **naphtas**, generating reformed gasoline.\n",
    "\n",
    "|                   | (LNRG) Light naphta | (MNRG) Medium naphta | (HNRG) Heavy naphta |\n",
    "|-------------------|:------------:|:-------------:|:------------:|\n",
    "| (RG) Reformed gasoline |      0.6     |      0.52     |     0.45     |\n",
    "\n",
    "At most 10 000 barrels of naphta can be reformed per day."
   ]
  },
  {
   "cell_type": "markdown",
   "id": "adopted-belief",
   "metadata": {
    "slideshow": {
     "slide_type": "slide"
    }
   },
   "source": [
    "### Cracking\n",
    "\n",
    "Applies to the **refined oils** and has a limit of 8000 barrels of oil a day.\n",
    "\n",
    "|                  | (LOCGO) Light oil | (HOCGO) Heavy oil |\n",
    "|------------------|:---------:|:---------:|\n",
    "| (CO) Cracked oil      |    0.68   |    0.75   |\n",
    "| (CG) Cracked gasoline |    0.28   |    0.20   |"
   ]
  },
  {
   "cell_type": "markdown",
   "id": "central-message",
   "metadata": {
    "slideshow": {
     "slide_type": "subslide"
    }
   },
   "source": [
    "Cracking can also be applied to **residuum** to produce lube-oil.\n",
    "\n",
    "|          | (RLBO) Residuum |\n",
    "|----------|:--------:|\n",
    "| (LBO) Lube-oil |    0.5   |\n",
    "\n",
    "The refinery must produce _at least_ 500 barrels and _at most_ 1000 barrels daily."
   ]
  },
  {
   "cell_type": "markdown",
   "id": "royal-match",
   "metadata": {
    "slideshow": {
     "slide_type": "slide"
    }
   },
   "source": [
    "### Blending\n",
    "\n",
    "The materials can be blended into:\n",
    "- Motor fuel (petrol)\n",
    "- Jet fuel\n",
    "- Fuel oil"
   ]
  },
  {
   "cell_type": "markdown",
   "id": "exotic-guest",
   "metadata": {
    "slideshow": {
     "slide_type": "subslide"
    }
   },
   "source": [
    "#### Motor fuel\n",
    "\n",
    "A mixture of naphtas, reformed gasoline and cracked gasoline can generate premium motor fuel (PMF) or regular motor fuel (RMF) depending on its resulting octane number."
   ]
  },
  {
   "cell_type": "markdown",
   "id": "atmospheric-mention",
   "metadata": {
    "slideshow": {
     "slide_type": "fragment"
    }
   },
   "source": [
    "If the octane number of the blend (assumed to be linear) is higher than 84, it is sold as _regular_. If it is higher than 94, it is sold as _premium_. Reformed gasoline and cracked gasoline have an octane number of 115 and 105 resp., while the light, medium and heavy naphtas have 90, 80 and 70 octane number resp."
   ]
  },
  {
   "cell_type": "markdown",
   "id": "medieval-craps",
   "metadata": {
    "slideshow": {
     "slide_type": "fragment"
    }
   },
   "source": [
    "Premium motor fuel production must be at least 40 % that of regular motor fuel."
   ]
  },
  {
   "cell_type": "markdown",
   "id": "established-amsterdam",
   "metadata": {
    "slideshow": {
     "slide_type": "subslide"
    }
   },
   "source": [
    "#### Jet fuel\n",
    "\n",
    "A mixture of light, heavy, cracked oils and residuum."
   ]
  },
  {
   "cell_type": "markdown",
   "id": "colored-cable",
   "metadata": {
    "slideshow": {
     "slide_type": "fragment"
    }
   },
   "source": [
    "The vapour pressure must not exceed 1 kg.cm². It is assumed to blend linearly by volume, being 1.0, 0.6, 1.5 and 0.05 kg.cm² the vapour pressure of light, heavy, cracked oils and residuum resp."
   ]
  },
  {
   "cell_type": "markdown",
   "id": "confirmed-capital",
   "metadata": {
    "slideshow": {
     "slide_type": "subslide"
    }
   },
   "source": [
    "#### Fuel oil\n",
    "\n",
    "Similar to jet fuel but with a fixed ratio of 10:4:3:1 (total 18 parts) of light oil, cracked oil, heavy oil and residuum must be respected."
   ]
  },
  {
   "cell_type": "markdown",
   "id": "revised-child",
   "metadata": {
    "slideshow": {
     "slide_type": "slide"
    }
   },
   "source": [
    "### Goal\n",
    "\n",
    "The fuels, fuel oil and lube-oil are the final products to be sold.\n",
    "\n",
    "|                          | Pounds per barrel |\n",
    "|--------------------------|:----------------:|\n",
    "| (PMF) Premium motor fuel |        7.0       |\n",
    "| (RMF) Regular motor fuel |        6.0       |\n",
    "| (JF) Jet fuel            |        4.0       |\n",
    "| (FO) Fuel oil            |        3.5       |\n",
    "| (LO) Lube-oil            |        1.5       |"
   ]
  },
  {
   "cell_type": "markdown",
   "id": "inappropriate-venice",
   "metadata": {
    "slideshow": {
     "slide_type": "slide"
    }
   },
   "source": [
    "## Constraints"
   ]
  },
  {
   "cell_type": "markdown",
   "id": "interracial-surfing",
   "metadata": {
    "slideshow": {
     "slide_type": "fragment"
    }
   },
   "source": [
    "Five types of constraints:\n",
    "- Availability\n",
    "- Production\n",
    "- Continuity\n",
    "- Capacity\n",
    "- Quality"
   ]
  },
  {
   "cell_type": "markdown",
   "id": "labeled-republican",
   "metadata": {
    "slideshow": {
     "slide_type": "slide"
    }
   },
   "source": [
    "### Availability"
   ]
  },
  {
   "cell_type": "markdown",
   "id": "identical-nature",
   "metadata": {
    "slideshow": {
     "slide_type": "fragment"
    }
   },
   "source": [
    "The input of the whole process, that is the two crude oils. We'll use CRA and CRB for the amount of each oil used.\n",
    "\n",
    "$$\n",
    "    CRA \\le 20 000 \\\\\n",
    "    CRB \\le 30 000\n",
    "$$"
   ]
  },
  {
   "cell_type": "code",
   "execution_count": 3,
   "id": "lovely-queens",
   "metadata": {
    "slideshow": {
     "slide_type": "fragment"
    }
   },
   "outputs": [],
   "source": [
    "cra = m.addVar(lb=0, ub=20000, name='CRA')\n",
    "crb = m.addVar(lb=0, ub=30000, name='CRB')\n",
    "\n",
    "m.update()"
   ]
  },
  {
   "cell_type": "markdown",
   "id": "bottom-championship",
   "metadata": {
    "slideshow": {
     "slide_type": "slide"
    }
   },
   "source": [
    "### Production\n",
    "\n",
    "These constraints tie the produced products to the input \"ingredients\"."
   ]
  },
  {
   "cell_type": "markdown",
   "id": "expensive-blake",
   "metadata": {
    "slideshow": {
     "slide_type": "subslide"
    }
   },
   "source": [
    "#### Distillation\n",
    "\n",
    "The relation between the crude oils consumed and the resulting products is\n",
    "$$\n",
    "\\begin{bmatrix}\n",
    "0.1     &     0.15    \\\\\n",
    "0.2     &     0.25    \\\\\n",
    "0.2     &     0.18    \\\\\n",
    "0.12    &     0.08    \\\\\n",
    "0.2     &     0.19    \\\\\n",
    "0.13    &     0.12 \n",
    "\\end{bmatrix} \\begin{bmatrix} CRA \\\\ CRB \\end{bmatrix} = \\begin{bmatrix}\n",
    "LN \\\\\n",
    "MN \\\\\n",
    "HN \\\\\n",
    "LO \\\\\n",
    "HO \\\\\n",
    "R\n",
    "\\end{bmatrix}\n",
    "$$"
   ]
  },
  {
   "cell_type": "code",
   "execution_count": 4,
   "id": "appropriate-toyota",
   "metadata": {
    "slideshow": {
     "slide_type": "fragment"
    }
   },
   "outputs": [],
   "source": [
    "# outputs\n",
    "ln = m.addVar(lb=0, name='LN')\n",
    "mn = m.addVar(lb=0, name='MN')\n",
    "hn = m.addVar(lb=0, name='HN')\n",
    "lo = m.addVar(lb=0, name='LO')\n",
    "ho = m.addVar(lb=0, name='HO')\n",
    "r = m.addVar(lb=0, name='R')\n",
    "\n",
    "m.addConstr(0.1*cra + 0.15*crb == ln, 'Prod_LN')\n",
    "m.addConstr(0.2*cra + 0.25*crb == mn, 'Prod_MN')\n",
    "m.addConstr(0.2*cra + 0.18*crb == hn, 'Prod_HN')\n",
    "m.addConstr(0.12*cra + 0.08*crb == lo, 'Prod_LO')\n",
    "m.addConstr(0.2*cra + 0.19*crb == ho, 'Prod_HO')\n",
    "m.addConstr(0.13*cra + 0.12*crb == r, 'Prod_R')\n",
    "\n",
    "m.update()"
   ]
  },
  {
   "cell_type": "markdown",
   "id": "hispanic-metadata",
   "metadata": {
    "slideshow": {
     "slide_type": "subslide"
    }
   },
   "source": [
    "#### Reforming\n",
    "\n",
    "We denote the amount of each nafta used for reformed gasoline production through the suffix -RG.\n",
    "\n",
    "We assure the relation between the naftas used for reforming and the reforming gasoline produced $$\n",
    "0.6 LNRG + 0.52 MNRG + 0.45 HNRG = RG\n",
    "$$"
   ]
  },
  {
   "cell_type": "code",
   "execution_count": 5,
   "id": "adjustable-meaning",
   "metadata": {
    "slideshow": {
     "slide_type": "fragment"
    }
   },
   "outputs": [],
   "source": [
    "# inputs\n",
    "lnrg = m.addVar(lb=0, name='LNRG')\n",
    "mnrg = m.addVar(lb=0, name='MNRG')\n",
    "hnrg = m.addVar(lb=0, name='HNRG')\n",
    "\n",
    "# outputs\n",
    "rg = m.addVar(lb=0, name='RG')\n",
    "\n",
    "m.addConstr(0.6*lnrg + 0.52*mnrg + 0.45*hnrg == rg, 'Prod_RG')\n",
    "\n",
    "m.update()"
   ]
  },
  {
   "cell_type": "markdown",
   "id": "olympic-companion",
   "metadata": {
    "slideshow": {
     "slide_type": "subslide"
    }
   },
   "source": [
    "#### Cracking\n",
    "\n",
    "As we saw, cracked oil and gasoline are produced from light and heavy oil.\n",
    "$$\n",
    "    0.68 LOCGO + 0.75HOCGO = CO \\\\\n",
    "    0.28 LOCGO + 0.20HOCGO = CG\n",
    "$$"
   ]
  },
  {
   "cell_type": "code",
   "execution_count": 6,
   "id": "attended-replacement",
   "metadata": {
    "slideshow": {
     "slide_type": "fragment"
    }
   },
   "outputs": [],
   "source": [
    "# inputs\n",
    "locgo = m.addVar(lb=0, name='LOCGO')\n",
    "hocgo = m.addVar(lb=0, name='HOCGO')\n",
    "\n",
    "# outputs\n",
    "co = m.addVar(lb=0, name='CO')\n",
    "cg = m.addVar(lb=0, name='CG')\n",
    "\n",
    "m.addConstr(0.68*locgo + 0.75*hocgo == co, 'Prod_CO')\n",
    "m.addConstr(0.28*locgo + 0.20*hocgo == cg, 'Prod_CG')\n",
    "\n",
    "m.update()"
   ]
  },
  {
   "cell_type": "markdown",
   "id": "restricted-effort",
   "metadata": {
    "slideshow": {
     "slide_type": "subslide"
    }
   },
   "source": [
    "And lube-oil is produced from residuum.\n",
    "$$\n",
    "    0.5 RLBO = LBO\n",
    "$$"
   ]
  },
  {
   "cell_type": "code",
   "execution_count": 7,
   "id": "unsigned-return",
   "metadata": {
    "slideshow": {
     "slide_type": "fragment"
    }
   },
   "outputs": [],
   "source": [
    "# inputs\n",
    "rlbo = m.addVar(lb=0, name='RLBO')\n",
    "\n",
    "# output\n",
    "lbo = m.addVar(lb=0, name='LBO')\n",
    "\n",
    "m.addConstr(0.5*rlbo == lbo, 'Prod_LBO')\n",
    "\n",
    "m.update()"
   ]
  },
  {
   "cell_type": "markdown",
   "id": "miniature-continuity",
   "metadata": {
    "slideshow": {
     "slide_type": "subslide"
    }
   },
   "source": [
    "#### Blending\n",
    "\n",
    "From the naftas and the gasolines, one can produce **premium or regular motor fuel**.\n",
    "$$\n",
    "    LNPMF + MNPMF + HNPMF + RGPMF + CGPMF = PMF \\\\\n",
    "    LNRMF + MNRMF + HNRMF + RGRMF + CGRMF = RMF\n",
    "$$"
   ]
  },
  {
   "cell_type": "code",
   "execution_count": 8,
   "id": "union-unemployment",
   "metadata": {
    "slideshow": {
     "slide_type": "fragment"
    }
   },
   "outputs": [],
   "source": [
    "# inputs\n",
    "lnpmf = m.addVar(lb=0, name='LNPMF')\n",
    "mnpmf = m.addVar(lb=0, name='MNPMF')\n",
    "hnpmf = m.addVar(lb=0, name='HNPMF')\n",
    "rgpmf = m.addVar(lb=0, name='RGPMF')\n",
    "cgpmf = m.addVar(lb=0, name='CGPMF')\n",
    "\n",
    "# outputs\n",
    "lnrmf = m.addVar(lb=0, name='LNRMF')\n",
    "mnrmf = m.addVar(lb=0, name='MNRMF')\n",
    "hnrmf = m.addVar(lb=0, name='HNRMF')\n",
    "rgrmf = m.addVar(lb=0, name='RGRMF')\n",
    "cgrmf = m.addVar(lb=0, name='CGRMF')\n",
    "\n",
    "pmf = m.addVar(lb=0, name='PMF')\n",
    "rmf = m.addVar(lb=0, name='RMF')\n",
    "\n",
    "m.addConstr(lnpmf + mnpmf + hnpmf + rgpmf + cgpmf == pmf, 'Prod_PMF')\n",
    "m.addConstr(lnrmf + mnrmf + hnrmf + rgrmf + cgrmf == rmf, 'Prod_RMF')\n",
    "\n",
    "m.update()"
   ]
  },
  {
   "cell_type": "markdown",
   "id": "incorporated-inflation",
   "metadata": {
    "slideshow": {
     "slide_type": "subslide"
    }
   },
   "source": [
    "Also, there's a lower limit of premium motor fuel production given the amount of regular motor fuel produced.\n",
    "$$\n",
    "    PMF \\ge 0.4 RMF\n",
    "$$"
   ]
  },
  {
   "cell_type": "code",
   "execution_count": 9,
   "id": "dominican-franchise",
   "metadata": {
    "slideshow": {
     "slide_type": "fragment"
    }
   },
   "outputs": [],
   "source": [
    "m.addConstr(pmf >= 0.4*rmf, 'Prod_PMF_RMF')\n",
    "\n",
    "m.update()"
   ]
  },
  {
   "cell_type": "markdown",
   "id": "fluid-consideration",
   "metadata": {
    "slideshow": {
     "slide_type": "subslide"
    }
   },
   "source": [
    "**Jet fuel** is a mixture of all the oils and residuum.\n",
    "$$\n",
    "    LOJF + HOJF + COJF + RJF = JF\n",
    "$$"
   ]
  },
  {
   "cell_type": "code",
   "execution_count": 10,
   "id": "difficult-hawaii",
   "metadata": {
    "slideshow": {
     "slide_type": "fragment"
    }
   },
   "outputs": [],
   "source": [
    "# inputs\n",
    "lojf = m.addVar(lb=0, name='LOJF')\n",
    "hojf = m.addVar(lb=0, name='HOJF')\n",
    "cojf = m.addVar(lb=0, name='COJF')\n",
    "rjf = m.addVar(lb=0, name='RJF')\n",
    "\n",
    "# output\n",
    "jf = m.addVar(lb=0, name='JF')\n",
    "\n",
    "m.addConstr(lojf + hojf + cojf + rjf == jf, 'Prod_JF')\n",
    "\n",
    "m.update()"
   ]
  },
  {
   "cell_type": "markdown",
   "id": "incredible-board",
   "metadata": {
    "slideshow": {
     "slide_type": "subslide"
    }
   },
   "source": [
    "Since **fuel oil** is produced through a fixed ratio of light oil, cracked oil, heavy oil and residuum, we would have\n",
    "$$\n",
    "    LOFO = \\frac{10}{18} FO \\\\\n",
    "    COFO = \\frac{4}{18} FO \\\\\n",
    "    HOFO = \\frac{3}{18} FO \\\\\n",
    "    RFO = \\frac{1}{18} FO \\\\\n",
    "$$\n",
    "But this is not necessary, as we can add this straight into the continuity constraint of each of these variables later on, reducing the amount of variables and constraints."
   ]
  },
  {
   "cell_type": "code",
   "execution_count": 11,
   "id": "final-recording",
   "metadata": {
    "slideshow": {
     "slide_type": "fragment"
    }
   },
   "outputs": [],
   "source": [
    "fo = m.addVar(lb=0, name='FO')\n",
    "\n",
    "m.update()"
   ]
  },
  {
   "cell_type": "markdown",
   "id": "digital-river",
   "metadata": {
    "slideshow": {
     "slide_type": "slide"
    }
   },
   "source": [
    "### Continuity\n",
    "\n",
    "These constraints assure that the destinations sum up to the productions."
   ]
  },
  {
   "cell_type": "markdown",
   "id": "adolescent-marketing",
   "metadata": {
    "slideshow": {
     "slide_type": "subslide"
    }
   },
   "source": [
    "#### Naftas\n",
    "\n",
    "Naftas can be used for producing reformed gasoline, premium and regular motor fuel.\n",
    "$$\n",
    "    LN = LNRG + LNPMF + LNRMF \\\\\n",
    "    MN = MNRG + MNPMF + MNRMF \\\\\n",
    "    HN = HNRG + HNPMF + HNRMF\n",
    "$$"
   ]
  },
  {
   "cell_type": "code",
   "execution_count": 12,
   "id": "stainless-quebec",
   "metadata": {
    "slideshow": {
     "slide_type": "fragment"
    }
   },
   "outputs": [],
   "source": [
    "m.addConstr(ln == lnrg + lnpmf + lnrmf, 'Con_LN')\n",
    "m.addConstr(mn == mnrg + mnpmf + mnrmf, 'Con_MN')\n",
    "m.addConstr(hn == hnrg + hnpmf + hnrmf, 'Con_HN')\n",
    "\n",
    "m.update()"
   ]
  },
  {
   "cell_type": "markdown",
   "id": "encouraging-filter",
   "metadata": {
    "slideshow": {
     "slide_type": "subslide"
    }
   },
   "source": [
    "#### Oils and residuum\n",
    "\n",
    "Light and heavy oils are used for cracked oil and gasoline, jet fuel and fuel oil, the latter through a fixed ratio\n",
    "$$\n",
    "    LO = LOCGO + LOJF + \\frac{10}{18} FO \\\\\n",
    "    HO = HOCGO + HOJF + \\frac{3}{18} FO \\\\\n",
    "$$\n",
    "\n",
    "Cracked oil is used only for jet fuel and fuel oil\n",
    "$$\n",
    "    CO = COJF + \\frac{4}{18} FO \\\\\n",
    "$$\n",
    "\n",
    "And residuum is used for lube-oil, jet fuel and fuel oil\n",
    "$$\n",
    "    R = RLBO + RJF + \\frac{1}{18} FO \\\\\n",
    "$$"
   ]
  },
  {
   "cell_type": "code",
   "execution_count": 13,
   "id": "posted-sunday",
   "metadata": {
    "slideshow": {
     "slide_type": "subslide"
    }
   },
   "outputs": [],
   "source": [
    "m.addConstr(lo == locgo + lojf + 0.55*fo, 'Con_LO')\n",
    "m.addConstr(ho == hocgo + hojf + 0.17*fo, 'Con_HO')\n",
    "\n",
    "m.addConstr(co == cojf + 0.22*fo, 'Con_CO')\n",
    "\n",
    "m.addConstr(r == rlbo + rjf + 0.06*fo, 'Con_R')\n",
    "\n",
    "m.update()"
   ]
  },
  {
   "cell_type": "markdown",
   "id": "secure-singles",
   "metadata": {
    "slideshow": {
     "slide_type": "subslide"
    }
   },
   "source": [
    "#### Gasolines\n",
    "\n",
    "They are only used for the motor fuels\n",
    "$$\n",
    "    CG = CGPMF + CGRMF \\\\\n",
    "    RG = RGPMF + RGRMF\n",
    "$$"
   ]
  },
  {
   "cell_type": "code",
   "execution_count": 14,
   "id": "public-trial",
   "metadata": {
    "slideshow": {
     "slide_type": "fragment"
    }
   },
   "outputs": [],
   "source": [
    "m.addConstr(cg == cgpmf + cgrmf, 'Con_CG')\n",
    "m.addConstr(rg == rgpmf + rgrmf, 'Con_RG')\n",
    "\n",
    "m.update()"
   ]
  },
  {
   "cell_type": "markdown",
   "id": "ranking-energy",
   "metadata": {
    "slideshow": {
     "slide_type": "slide"
    }
   },
   "source": [
    "### Capacity\n",
    "\n",
    "These constraints dictate the capacity of each process."
   ]
  },
  {
   "cell_type": "markdown",
   "id": "seven-terry",
   "metadata": {
    "slideshow": {
     "slide_type": "subslide"
    }
   },
   "source": [
    "#### Distillation\n",
    "\n",
    "The distillery has a limit of 45 000 barrels of crude oil a day. $$\n",
    "    CRA + CRB \\le 45 000\n",
    "$$"
   ]
  },
  {
   "cell_type": "code",
   "execution_count": 15,
   "id": "incorrect-invasion",
   "metadata": {
    "slideshow": {
     "slide_type": "fragment"
    }
   },
   "outputs": [],
   "source": [
    "m.addConstr(cra + crb <= 45000, 'Cap_Dist')\n",
    "\n",
    "m.update()"
   ]
  },
  {
   "cell_type": "markdown",
   "id": "basic-jungle",
   "metadata": {
    "slideshow": {
     "slide_type": "subslide"
    }
   },
   "source": [
    "#### Reforming\n",
    "\n",
    "At most 10 000 barrels of naphta can be reformed per day. $$\n",
    "    LNRG + MNRG + HNRG \\le 10000\n",
    "$$"
   ]
  },
  {
   "cell_type": "code",
   "execution_count": 16,
   "id": "smoking-plymouth",
   "metadata": {
    "slideshow": {
     "slide_type": "fragment"
    }
   },
   "outputs": [],
   "source": [
    "m.addConstr(lnrg + mnrg + hnrg <= 10000, 'Cap_Ref')\n",
    "\n",
    "m.update()"
   ]
  },
  {
   "cell_type": "markdown",
   "id": "vital-trader",
   "metadata": {
    "slideshow": {
     "slide_type": "subslide"
    }
   },
   "source": [
    "#### Cracking\n",
    "\n",
    "This facility has a limit of 8000 barrels of oil a day. $$\n",
    "    LOCGO + HOCGO \\le 8000\n",
    "$$"
   ]
  },
  {
   "cell_type": "code",
   "execution_count": 17,
   "id": "fitted-completion",
   "metadata": {
    "slideshow": {
     "slide_type": "fragment"
    }
   },
   "outputs": [],
   "source": [
    "m.addConstr(locgo + hocgo <= 8000, 'Cap_Crack')\n",
    "\n",
    "m.update()"
   ]
  },
  {
   "cell_type": "markdown",
   "id": "absolute-garlic",
   "metadata": {
    "slideshow": {
     "slide_type": "fragment"
    }
   },
   "source": [
    "Regarding lube-oil, _at least_ 500 barrels and _at most_ 1000 barrels must be produced. $$\n",
    "    LBO \\ge 500 \\\\\n",
    "    LBO \\le 1000\n",
    "$$"
   ]
  },
  {
   "cell_type": "code",
   "execution_count": 18,
   "id": "anonymous-barbados",
   "metadata": {
    "slideshow": {
     "slide_type": "fragment"
    }
   },
   "outputs": [],
   "source": [
    "m.addConstr(lbo >= 500, 'Cap_LBO_min')\n",
    "m.addConstr(lbo <= 1000, 'Cap_LBO_max')\n",
    "\n",
    "m.update()"
   ]
  },
  {
   "cell_type": "markdown",
   "id": "ecological-province",
   "metadata": {
    "slideshow": {
     "slide_type": "slide"
    }
   },
   "source": [
    "### Quality\n",
    "\n",
    "These are the constraints that control side-aspects of the processes."
   ]
  },
  {
   "cell_type": "markdown",
   "id": "fourth-lunch",
   "metadata": {
    "slideshow": {
     "slide_type": "subslide"
    }
   },
   "source": [
    "#### Motor fuel\n",
    "\n",
    "First, we must respect the octane number of each type of motor fuel, remembering that reformed gasoline and cracked gasoline have an octane number of 115 and 105 resp. while the light, medium and heavy naphtas have 90, 80 and 70 octane number resp. and we're aiming for 94 for premium and 84 for regular.\n",
    "\n",
    "$$\n",
    "    90 LNPMF + 80 MNPMF + 70 HNPMF + 115 RGPMF + 105 CGPMF \\ge 94 PMF \\\\\n",
    "    90 LNRMF + 80 MNRMF + 70 HNRMF + 115 RGRMF + 105 CGRMF \\ge 84 RMF\n",
    "$$"
   ]
  },
  {
   "cell_type": "code",
   "execution_count": 19,
   "id": "patient-dubai",
   "metadata": {
    "slideshow": {
     "slide_type": "fragment"
    }
   },
   "outputs": [],
   "source": [
    "m.addConstr(90*lnpmf + 80*mnpmf + 70*hnpmf + 115*rgpmf + 105*cgpmf >= 94*pmf, 'Qual_PMF')\n",
    "m.addConstr(90*lnrmf + 80*mnrmf + 70*hnrmf + 115*rgrmf + 105*cgrmf >= 84*rmf, 'Qual_RMF')\n",
    "\n",
    "m.update()"
   ]
  },
  {
   "cell_type": "markdown",
   "id": "directed-nickel",
   "metadata": {
    "slideshow": {
     "slide_type": "slide"
    }
   },
   "source": [
    "#### Jet fuel\n",
    "\n",
    "Similar to motor fuel, jet fuel has a restriction on its vapour pressure.\n",
    "\n",
    "$$\n",
    "    1.0 LOJF + 0.6 HOJF + 1.5 COJF + 0.05 RJF \\le JF\n",
    "$$"
   ]
  },
  {
   "cell_type": "code",
   "execution_count": 20,
   "id": "indie-ranking",
   "metadata": {
    "slideshow": {
     "slide_type": "fragment"
    }
   },
   "outputs": [],
   "source": [
    "m.addConstr(lojf + 0.6*hojf + 1.5*cojf + 0.05*rjf <= jf, 'Qual_JF')\n",
    "\n",
    "m.update()"
   ]
  },
  {
   "cell_type": "markdown",
   "id": "collected-skill",
   "metadata": {
    "slideshow": {
     "slide_type": "slide"
    }
   },
   "source": [
    "## Objective function\n",
    "\n",
    "Given the prices of the products we can sell, one can state the objective as\n",
    "\n",
    "$$\n",
    "    \\max 7.0 PMF + 6.0 RMF + 4.0 JF + 3.5 FO + 1.5 LBO\n",
    "$$"
   ]
  },
  {
   "cell_type": "code",
   "execution_count": 21,
   "id": "metric-beverage",
   "metadata": {
    "slideshow": {
     "slide_type": "fragment"
    }
   },
   "outputs": [],
   "source": [
    "m.setObjective(7*pmf + 6*rmf + 4*jf + 3.5*fo + 1.5*lbo, GRB.MAXIMIZE)\n",
    "\n",
    "m.update()"
   ]
  },
  {
   "cell_type": "markdown",
   "id": "instructional-miracle",
   "metadata": {
    "slideshow": {
     "slide_type": "slide"
    }
   },
   "source": [
    "<img src=\"Refinery.png\">"
   ]
  },
  {
   "cell_type": "markdown",
   "id": "regulation-amber",
   "metadata": {
    "slideshow": {
     "slide_type": "slide"
    }
   },
   "source": [
    "## Optimization"
   ]
  },
  {
   "cell_type": "code",
   "execution_count": 22,
   "id": "dying-concert",
   "metadata": {
    "slideshow": {
     "slide_type": "fragment"
    }
   },
   "outputs": [
    {
     "name": "stdout",
     "output_type": "stream",
     "text": [
      "Gurobi Optimizer version 9.1.1 build v9.1.1rc0 (linux64)\n",
      "Thread count: 2 physical cores, 4 logical processors, using up to 4 threads\n",
      "Optimize a model with 31 rows, 36 columns and 108 nonzeros\n",
      "Model fingerprint: 0x8ec7e929\n",
      "Coefficient statistics:\n",
      "  Matrix range     [5e-02, 1e+02]\n",
      "  Objective range  [2e+00, 7e+00]\n",
      "  Bounds range     [2e+04, 3e+04]\n",
      "  RHS range        [5e+02, 4e+04]\n",
      "Presolve removed 15 rows and 14 columns\n",
      "Presolve time: 0.01s\n",
      "Presolved: 16 rows, 22 columns, 72 nonzeros\n",
      "\n",
      "Iteration    Objective       Primal Inf.    Dual Inf.      Time\n",
      "       0    1.3000000e+31   5.000000e+29   1.300000e+01      0s\n",
      "      14    2.1136513e+05   0.000000e+00   0.000000e+00      0s\n",
      "\n",
      "Solved in 14 iterations and 0.03 seconds\n",
      "Optimal objective  2.113651348e+05\n",
      "CPU times: user 32.7 ms, sys: 11.6 ms, total: 44.2 ms\n",
      "Wall time: 40.3 ms\n"
     ]
    }
   ],
   "source": [
    "%time m.optimize()"
   ]
  },
  {
   "cell_type": "code",
   "execution_count": 41,
   "id": "split-neighborhood",
   "metadata": {
    "slideshow": {
     "slide_type": "subslide"
    }
   },
   "outputs": [
    {
     "name": "stdout",
     "output_type": "stream",
     "text": [
      "CRA 15000                     LN 6000                       PMF 6817.78                   \n",
      "CRB 30000                     MN 10500                      RMF 17044.4                   \n",
      "                              HN 8400                       JF 15156                      \n",
      "                              LO 4200                       FO 0                          \n",
      "                              HO 8700                       LBO 500                       \n",
      "                              R 5550                                                      \n",
      "                              RG 2433.09                                                  \n",
      "                              CG 1936                                                     \n",
      "                              CO 5706                                                     \n"
     ]
    }
   ],
   "source": [
    "print('Obj: £%g\\n' % m.objVal)\n",
    "\n",
    "oils = [cra, crb]\n",
    "ingredients = [ln, mn, hn, lo, ho, r, rg, cg, co]\n",
    "products = [pmf, rmf, jf, fo, lbo]\n",
    "\n",
    "n = max(len(oils), len(ingredients), len(products))\n",
    "\n",
    "oils.extend([None,]*(n-len(oils)))\n",
    "ingredients.extend([None,]*(n-len(ingredients)))\n",
    "products.extend([None,]*(n-len(products)))\n",
    "\n",
    "for oil, ingredient, product in zip(oils, ingredients, products):\n",
    "    for v in [oil, ingredient, product]:\n",
    "        p = '%s %g' % (v.varName, v.x) if v is not None else ''\n",
    "        print(p, end=' '*(30 - len(p)))\n",
    "    print('')"
   ]
  },
  {
   "cell_type": "markdown",
   "id": "floral-rebound",
   "metadata": {
    "slideshow": {
     "slide_type": "subslide"
    }
   },
   "source": [
    "### Sensitivity analysis"
   ]
  },
  {
   "cell_type": "code",
   "execution_count": 24,
   "id": "double-yahoo",
   "metadata": {
    "slideshow": {
     "slide_type": "subslide"
    }
   },
   "outputs": [
    {
     "name": "stdout",
     "output_type": "stream",
     "text": [
      "Revenue by increasing supply of\n",
      "Crude oil 1 £0.00/Barrel\n",
      "Crude oil 2 £0.26/Barrel\n"
     ]
    }
   ],
   "source": [
    "print(f\"Revenue by increasing supply of\")\n",
    "print(f\"Crude oil 1 £{cra.RC:.2f}/Barrel\")\n",
    "print(f\"Crude oil 2 £{crb.RC:.2f}/Barrel\")"
   ]
  },
  {
   "cell_type": "code",
   "execution_count": 25,
   "id": "subject-postage",
   "metadata": {
    "slideshow": {
     "slide_type": "subslide"
    }
   },
   "outputs": [
    {
     "name": "stdout",
     "output_type": "stream",
     "text": [
      "Capacities\n",
      "\n",
      "Distillery: \t£4.47/Barrel\n",
      "Reforming: \t£0.00/Barrel\n",
      "Cracking: \t£0.68/Barrel\n"
     ]
    }
   ],
   "source": [
    "print(\"Capacities\\n\")\n",
    "\n",
    "print(f\"Distillery: \\t£{m.getConstrByName('Cap_Dist').Pi:.2f}/Barrel\")\n",
    "print(f\"Reforming: \\t£{m.getConstrByName('Cap_Ref').Pi:.2f}/Barrel\")\n",
    "print(f\"Cracking: \\t£{m.getConstrByName('Cap_Crack').Pi:.2f}/Barrel\")"
   ]
  },
  {
   "cell_type": "code",
   "execution_count": 26,
   "id": "atmospheric-checklist",
   "metadata": {
    "slideshow": {
     "slide_type": "subslide"
    }
   },
   "outputs": [
    {
     "name": "stdout",
     "output_type": "stream",
     "text": [
      "Lube-oil restrictions\n",
      "\n",
      "Decreasing lower limit: £6.50/Barrel\n",
      "Increasing upper limit: £0.00/Barrel\n"
     ]
    }
   ],
   "source": [
    "print(\"Lube-oil restrictions\\n\")\n",
    "\n",
    "print(f\"Decreasing lower limit: £{-m.getConstrByName('Cap_LBO_min').Pi:.2f}/Barrel\")\n",
    "print(f\"Increasing upper limit: £{m.getConstrByName('Cap_LBO_max').Pi:.2f}/Barrel\")"
   ]
  },
  {
   "cell_type": "markdown",
   "id": "joint-physiology",
   "metadata": {
    "slideshow": {
     "slide_type": "slide"
    }
   },
   "source": [
    "## Questions?"
   ]
  },
  {
   "cell_type": "markdown",
   "id": "sized-spouse",
   "metadata": {
    "slideshow": {
     "slide_type": "subslide"
    }
   },
   "source": [
    "## Thank you!"
   ]
  }
 ],
 "metadata": {
  "celltoolbar": "Slideshow",
  "kernelspec": {
   "display_name": "Python [conda env:opt] *",
   "language": "python",
   "name": "conda-env-opt-py"
  },
  "language_info": {
   "codemirror_mode": {
    "name": "ipython",
    "version": 3
   },
   "file_extension": ".py",
   "mimetype": "text/x-python",
   "name": "python",
   "nbconvert_exporter": "python",
   "pygments_lexer": "ipython3",
   "version": "3.8.5"
  }
 },
 "nbformat": 4,
 "nbformat_minor": 5
}
