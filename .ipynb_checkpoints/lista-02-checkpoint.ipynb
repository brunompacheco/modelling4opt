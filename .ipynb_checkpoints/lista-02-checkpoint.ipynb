{
 "cells": [
  {
   "cell_type": "markdown",
   "id": "informed-emerald",
   "metadata": {
    "slideshow": {
     "slide_type": "slide"
    }
   },
   "source": [
    "# Lista 1"
   ]
  },
  {
   "cell_type": "code",
   "execution_count": 23,
   "id": "renewable-oxide",
   "metadata": {
    "slideshow": {
     "slide_type": "fragment"
    }
   },
   "outputs": [],
   "source": [
    "import numpy as np\n",
    "\n",
    "from gurobipy import Model, GRB"
   ]
  },
  {
   "cell_type": "markdown",
   "id": "right-cleanup",
   "metadata": {
    "slideshow": {
     "slide_type": "slide"
    }
   },
   "source": [
    "## Exercício 1"
   ]
  },
  {
   "cell_type": "code",
   "execution_count": 4,
   "id": "public-subcommittee",
   "metadata": {
    "slideshow": {
     "slide_type": "subslide"
    }
   },
   "outputs": [
    {
     "name": "stdout",
     "output_type": "stream",
     "text": [
      "Gurobi Optimizer version 9.1.1 build v9.1.1rc0 (linux64)\n",
      "Thread count: 2 physical cores, 4 logical processors, using up to 4 threads\n",
      "Optimize a model with 2 rows, 2 columns and 4 nonzeros\n",
      "Model fingerprint: 0xbb97aa4e\n",
      "Variable types: 0 continuous, 2 integer (0 binary)\n",
      "Coefficient statistics:\n",
      "  Matrix range     [5e-01, 8e-01]\n",
      "  Objective range  [2e+00, 4e+00]\n",
      "  Bounds range     [0e+00, 0e+00]\n",
      "  RHS range        [7e+00, 8e+00]\n",
      "Found heuristic solution: objective 36.0000000\n",
      "Presolve removed 2 rows and 2 columns\n",
      "Presolve time: 0.08s\n",
      "Presolve: All rows and columns removed\n",
      "\n",
      "Explored 0 nodes (0 simplex iterations) in 0.13 seconds\n",
      "Thread count was 1 (of 4 available processors)\n",
      "\n",
      "Solution count 1: 36 \n",
      "\n",
      "Optimal solution found (tolerance 1.00e-04)\n",
      "Best objective 3.600000000000e+01, best bound 3.600000000000e+01, gap 0.0000%\n",
      "CPU times: user 20.5 ms, sys: 4.08 ms, total: 24.6 ms\n",
      "Wall time: 154 ms\n",
      "x1 9\n",
      "x2 -0\n",
      "Obj: 36\n"
     ]
    }
   ],
   "source": [
    "# Create a new model\n",
    "m1 = Model('Máquinas')\n",
    "\n",
    "# Create variables\n",
    "x1 = m1.addVar(lb=0, vtype=GRB.INTEGER, name='x1')\n",
    "x2 = m1.addVar(lb=0, vtype=GRB.INTEGER, name='x2')\n",
    "\n",
    "# Set objective\n",
    "m1.setObjective(4*x1 + 2.5*x2, GRB.MAXIMIZE)\n",
    "\n",
    "# Add constraints\n",
    "m1.addConstr(0.75*x1 + 0.5*x2 <= 8, 'M1')\n",
    "m1.addConstr(0.75*x1 + 0.75*x2 <= 7, 'M2')\n",
    "\n",
    "m1.update()\n",
    "\n",
    "%time m1.optimize()\n",
    "\n",
    "for v in m1.getVars():\n",
    "    print('%s %g' % (v.varName, v.x))\n",
    "\n",
    "print('Obj: %g' % m1.objVal)"
   ]
  },
  {
   "cell_type": "code",
   "execution_count": 13,
   "id": "soviet-forestry",
   "metadata": {
    "slideshow": {
     "slide_type": "subslide"
    }
   },
   "outputs": [
    {
     "name": "stdout",
     "output_type": "stream",
     "text": [
      "Solution: 2.25 p1 and -0.0 p2\n"
     ]
    }
   ],
   "source": [
    "p1 = x1.x / 4\n",
    "p2 = x2.x / 4\n",
    "\n",
    "print(f'Solution: {p1} p1 and {p2} p2')"
   ]
  },
  {
   "cell_type": "markdown",
   "id": "forbidden-rebate",
   "metadata": {
    "slideshow": {
     "slide_type": "slide"
    }
   },
   "source": [
    "## Exercício 2"
   ]
  },
  {
   "cell_type": "code",
   "execution_count": 53,
   "id": "cleared-macedonia",
   "metadata": {
    "slideshow": {
     "slide_type": "fragment"
    }
   },
   "outputs": [
    {
     "name": "stdout",
     "output_type": "stream",
     "text": [
      "Gurobi Optimizer version 9.1.1 build v9.1.1rc0 (linux64)\n",
      "Thread count: 2 physical cores, 4 logical processors, using up to 4 threads\n",
      "Optimize a model with 7 rows, 2 columns and 14 nonzeros\n",
      "Model fingerprint: 0x7da5535e\n",
      "Coefficient statistics:\n",
      "  Matrix range     [3e-02, 1e+00]\n",
      "  Objective range  [8e+01, 1e+02]\n",
      "  Bounds range     [1e+00, 1e+00]\n",
      "  RHS range        [3e-02, 1e+00]\n",
      "Presolve removed 7 rows and 2 columns\n",
      "Presolve time: 0.22s\n",
      "Presolve: All rows and columns removed\n",
      "Iteration    Objective       Primal Inf.    Dual Inf.      Time\n",
      "       0    8.6666667e+01   0.000000e+00   0.000000e+00      0s\n",
      "\n",
      "Solved in 0 iterations and 0.22 seconds\n",
      "Optimal objective  8.666666667e+01\n",
      "CPU times: user 14.4 ms, sys: 3.83 ms, total: 18.3 ms\n",
      "Wall time: 236 ms\n",
      "q[0] 0.333333\n",
      "q[1] 0.666667\n",
      "Obj: 86.6667\n"
     ]
    }
   ],
   "source": [
    "# Create a new model\n",
    "m2 = Model('Sucatas')\n",
    "\n",
    "# Create variables\n",
    "q = m2.addMVar(2, lb=[0, 0], ub=[1, 1],\n",
    "               vtype=GRB.CONTINUOUS, name='q')\n",
    "\n",
    "# Set objective\n",
    "c = np.array([100, 80])\n",
    "m2.setObjective(c @ q, GRB.MINIMIZE)\n",
    "\n",
    "# Add constraints\n",
    "A = np.array([\n",
    "    [0.06, 0.03],\n",
    "    [0.03, 0.06],\n",
    "    [0.04, 0.03],\n",
    "])\n",
    "u = np.array([0.06, 0.05, 0.07])\n",
    "l = np.array([0.03, 0.03, 0.03])\n",
    "\n",
    "m2.addConstr(A @ q >= l, 'C_l')\n",
    "m2.addConstr(A @ q <= u, 'C_u')\n",
    "m2.addConstr(q[0] + q[1] == 1, 'C_q')\n",
    "\n",
    "m2.update()\n",
    "\n",
    "%time m2.optimize()\n",
    "\n",
    "for v in m2.getVars():\n",
    "    print('%s %g' % (v.varName, v.x))\n",
    "\n",
    "print('Obj: %g' % m2.objVal)"
   ]
  },
  {
   "cell_type": "markdown",
   "id": "honey-console",
   "metadata": {
    "slideshow": {
     "slide_type": "subslide"
    }
   },
   "source": [
    "## Exercício 3"
   ]
  },
  {
   "cell_type": "code",
   "execution_count": 72,
   "id": "apart-chassis",
   "metadata": {
    "slideshow": {
     "slide_type": "slide"
    }
   },
   "outputs": [
    {
     "name": "stdout",
     "output_type": "stream",
     "text": [
      "Gurobi Optimizer version 9.1.1 build v9.1.1rc0 (linux64)\n",
      "Thread count: 2 physical cores, 4 logical processors, using up to 4 threads\n",
      "Optimize a model with 8 rows, 10 columns and 16 nonzeros\n",
      "Model fingerprint: 0x72752115\n",
      "Model has 8 quadratic objective terms\n",
      "Coefficient statistics:\n",
      "  Matrix range     [1e+00, 1e+00]\n",
      "  Objective range  [0e+00, 0e+00]\n",
      "  QObjective range [3e+02, 6e+02]\n",
      "  Bounds range     [0e+00, 0e+00]\n",
      "  RHS range        [5e+00, 1e+01]\n",
      "Presolve removed 2 rows and 2 columns\n",
      "Presolve time: 0.12s\n",
      "Presolved: 6 rows, 8 columns, 12 nonzeros\n",
      "Presolved model has 8 quadratic objective terms\n",
      "Ordering time: 0.00s\n",
      "\n",
      "Barrier statistics:\n",
      " AA' NZ     : 6.000e+00\n",
      " Factor NZ  : 1.200e+01\n",
      " Factor Ops : 2.800e+01 (less than 1 second per iteration)\n",
      " Threads    : 1\n",
      "\n",
      "                  Objective                Residual\n",
      "Iter       Primal          Dual         Primal    Dual     Compl     Time\n",
      "   0   1.71555000e+06 -1.71555000e+06  0.00e+00 0.00e+00  9.13e+05     0s\n",
      "   1   5.60069931e+05 -4.07638929e+05  1.14e-13 0.00e+00  1.21e+05     0s\n",
      "   2   1.37266887e+05  1.44896705e+04  5.68e-14 0.00e+00  1.53e+04     0s\n",
      "   3   9.08152645e+04  7.98875105e+04  5.68e-14 0.00e+00  1.37e+03     0s\n",
      "   4   9.05780548e+04  9.05056748e+04  5.68e-14 4.97e-14  9.05e+00     0s\n",
      "   5   9.05500281e+04  9.05499556e+04  2.84e-14 5.64e-14  9.06e-03     0s\n",
      "   6   9.05500000e+04  9.05500000e+04  2.84e-14 2.49e-14  9.07e-06     0s\n",
      "   7   9.05500000e+04  9.05500000e+04  2.84e-14 2.84e-14  9.08e-09     0s\n",
      "\n",
      "Barrier solved model in 7 iterations and 0.38 seconds\n",
      "Optimal objective 9.05500000e+04\n",
      "\n",
      "CPU times: user 37.3 ms, sys: 4.11 ms, total: 41.4 ms\n",
      "Wall time: 392 ms\n",
      "pos[0] 12\n",
      "pos[1] 12\n",
      "aux[0] 7\n",
      "aux[1] 2\n",
      "aux[2] 2\n",
      "aux[3] 7\n",
      "aux[4] 12\n",
      "aux[5] 1.57037e-12\n",
      "aux[6] 1.50023e-12\n",
      "aux[7] 12\n",
      "Obj: 90550\n"
     ]
    }
   ],
   "source": [
    "# Create a new model\n",
    "m3 = Model('Depósito')\n",
    "\n",
    "# Create variables\n",
    "clients = [\n",
    "    (np.array([5, 10]), 200),\n",
    "    (np.array([10, 5]), 150),\n",
    "    (np.array([0, 12]), 200),\n",
    "    (np.array([12, 0]), 300),\n",
    "]\n",
    "\n",
    "p = m3.addMVar(2, vtype=GRB.CONTINUOUS, name='pos')\n",
    "# auxiliary variable for calculations\n",
    "z = m3.addMVar((len(clients), 2), vtype=GRB.CONTINUOUS, name='aux')\n",
    "\n",
    "s = list()\n",
    "for (q_i, n_i), z_i in zip(clients, z):\n",
    "    m3.addConstr(z_i == p - q_i)\n",
    "    \n",
    "    # we omit the sqrt as optimizing the inner product\n",
    "    # also optimizes its sqrt\n",
    "    s.append((z_i @ z_i) * n_i)\n",
    "\n",
    "# Set objective\n",
    "m3.setObjective(sum(s), GRB.MINIMIZE)\n",
    "\n",
    "m3.update()\n",
    "\n",
    "%time m3.optimize()\n",
    "\n",
    "for v in m3.getVars():\n",
    "    print('%s %g' % (v.varName, v.x))\n",
    "\n",
    "print('Obj: %g' % m3.objVal)"
   ]
  }
 ],
 "metadata": {
  "celltoolbar": "Slideshow",
  "kernelspec": {
   "display_name": "Python [conda env:opt] *",
   "language": "python",
   "name": "conda-env-opt-py"
  },
  "language_info": {
   "codemirror_mode": {
    "name": "ipython",
    "version": 3
   },
   "file_extension": ".py",
   "mimetype": "text/x-python",
   "name": "python",
   "nbconvert_exporter": "python",
   "pygments_lexer": "ipython3",
   "version": "3.8.5"
  }
 },
 "nbformat": 4,
 "nbformat_minor": 5
}
