{
 "cells": [
  {
   "cell_type": "markdown",
   "id": "innocent-cover",
   "metadata": {},
   "source": [
    "# Lista de Execícios 6"
   ]
  },
  {
   "cell_type": "code",
   "execution_count": 1,
   "id": "damaged-architecture",
   "metadata": {},
   "outputs": [],
   "source": [
    "import numpy as np\n",
    "\n",
    "from gurobipy import Model, GRB"
   ]
  },
  {
   "cell_type": "markdown",
   "id": "forward-thailand",
   "metadata": {},
   "source": [
    "## Exercício 1"
   ]
  },
  {
   "cell_type": "code",
   "execution_count": 41,
   "id": "psychological-suggestion",
   "metadata": {},
   "outputs": [
    {
     "name": "stdout",
     "output_type": "stream",
     "text": [
      "Changed value of parameter Method to 0\n",
      "   Prev: -1  Min: -1  Max: 5  Default: -1\n",
      "Gurobi Optimizer version 9.1.1 build v9.1.1rc0 (linux64)\n",
      "Thread count: 2 physical cores, 4 logical processors, using up to 4 threads\n",
      "Optimize a model with 4 rows, 3 columns and 8 nonzeros\n",
      "Model fingerprint: 0xa8d1f453\n",
      "Variable types: 0 continuous, 3 integer (0 binary)\n",
      "Coefficient statistics:\n",
      "  Matrix range     [1e+00, 3e+00]\n",
      "  Objective range  [1e+02, 2e+02]\n",
      "  Bounds range     [2e+01, 2e+01]\n",
      "  RHS range        [7e+01, 1e+02]\n",
      "Found heuristic solution: objective 9400.0000000\n",
      "Presolve removed 4 rows and 3 columns\n",
      "Presolve time: 0.00s\n",
      "Presolve: All rows and columns removed\n",
      "\n",
      "Explored 0 nodes (0 simplex iterations) in 0.01 seconds\n",
      "Thread count was 1 (of 4 available processors)\n",
      "\n",
      "Solution count 1: 9400 \n",
      "\n",
      "Optimal solution found (tolerance 1.00e-04)\n",
      "Best objective 9.400000000000e+03, best bound 9.400000000000e+03, gap 0.0000%\n",
      "CPU times: user 17 ms, sys: 3.47 ms, total: 20.4 ms\n",
      "Wall time: 22.4 ms\n",
      "x[0] 24\n",
      "x[1] 23\n",
      "x[2] -0\n",
      "Obj: 9400\n"
     ]
    }
   ],
   "source": [
    "A = np.array([\n",
    "    [3, 2, 0],\n",
    "    [1, 2, 0],\n",
    "])\n",
    "\n",
    "b = np.array([120, 71])\n",
    "\n",
    "m = Model('Colares')\n",
    "\n",
    "# x_3 = w\n",
    "x = m.addMVar(3, lb=[20, 23, 0], vtype=GRB.INTEGER, name='x')\n",
    "\n",
    "c_profit = np.array([400, 500, 0])\n",
    "c_gold = np.array([2, 3, 1])\n",
    "gold_price = 100\n",
    "m.setObjective(c_profit @ x - (c_gold @ x) * gold_price, GRB.MAXIMIZE)\n",
    "\n",
    "m.addConstr(A @ x <= b, 'recursos')\n",
    "m.addConstr(c_gold @ x >= 100, 'ouro')\n",
    "m.addConstr(x[2] <= 100, 'slack')\n",
    "\n",
    "m.Params.Method = 0  # force simplex\n",
    "\n",
    "m.update()\n",
    "\n",
    "%time m.optimize()\n",
    "\n",
    "for v in m.getVars():\n",
    "    print('%s %g' % (v.varName, v.x))\n",
    "\n",
    "print('Obj: %g' % m.objVal)"
   ]
  }
 ],
 "metadata": {
  "kernelspec": {
   "display_name": "Python [conda env:opt] *",
   "language": "python",
   "name": "conda-env-opt-py"
  },
  "language_info": {
   "codemirror_mode": {
    "name": "ipython",
    "version": 3
   },
   "file_extension": ".py",
   "mimetype": "text/x-python",
   "name": "python",
   "nbconvert_exporter": "python",
   "pygments_lexer": "ipython3",
   "version": "3.8.5"
  }
 },
 "nbformat": 4,
 "nbformat_minor": 5
}
