{
 "cells": [
  {
   "cell_type": "code",
   "execution_count": 1,
   "id": "preceding-conspiracy",
   "metadata": {
    "slideshow": {
     "slide_type": "skip"
    }
   },
   "outputs": [],
   "source": [
    "import numpy as np\n",
    "\n",
    "from gurobipy import Model, GRB"
   ]
  },
  {
   "cell_type": "markdown",
   "id": "positive-flood",
   "metadata": {
    "slideshow": {
     "slide_type": "slide"
    }
   },
   "source": [
    "# Refinery Optimisation\n",
    "\n",
    "Bruno M. Pacheco - 16100865"
   ]
  },
  {
   "cell_type": "markdown",
   "id": "apparent-opposition",
   "metadata": {
    "slideshow": {
     "slide_type": "slide"
    }
   },
   "source": [
    "## Problem Definition\n",
    "\n",
    "The refinery transforms **crude oil** in petrols and fuels to be sold. Thus, we want o **maximize profit** from the daily production."
   ]
  },
  {
   "cell_type": "markdown",
   "id": "signed-brazilian",
   "metadata": {
    "slideshow": {
     "slide_type": "fragment"
    }
   },
   "source": [
    "<img src=\"Refinery.png\">"
   ]
  },
  {
   "cell_type": "code",
   "execution_count": 2,
   "id": "classified-memorabilia",
   "metadata": {
    "slideshow": {
     "slide_type": "fragment"
    }
   },
   "outputs": [
    {
     "name": "stdout",
     "output_type": "stream",
     "text": [
      "Academic license - for non-commercial use only - expires 2021-06-12\n",
      "Using license file /home/bruno/gurobi.lic\n"
     ]
    }
   ],
   "source": [
    "m = Model('Refinery')"
   ]
  },
  {
   "cell_type": "markdown",
   "id": "coordinate-thanksgiving",
   "metadata": {
    "slideshow": {
     "slide_type": "slide"
    }
   },
   "source": [
    "## Supplies\n",
    "\n",
    "Crude oil 1 and crude oil 2 are available for production in a fixed rate of 20 000 and 30 000 barrels a day resp. We'll use CRA and CRB for the amount of each oil used.\n",
    "\n",
    "Thus,$$\n",
    "    CRA \\le 20 000 \\\\\n",
    "    CRB \\le 30 000\n",
    "$$ are our first constraints."
   ]
  },
  {
   "cell_type": "code",
   "execution_count": 3,
   "id": "indirect-identification",
   "metadata": {
    "slideshow": {
     "slide_type": "fragment"
    }
   },
   "outputs": [],
   "source": [
    "cra = m.addVar(lb=0, ub=20000, name='CRA')\n",
    "crb = m.addVar(lb=0, ub=30000, name='CRB')\n",
    "\n",
    "m.update()"
   ]
  },
  {
   "cell_type": "markdown",
   "id": "gentle-topic",
   "metadata": {
    "slideshow": {
     "slide_type": "slide"
    }
   },
   "source": [
    "### Distillation\n",
    "\n",
    "Splits the two types of crude oil in different subproducts, with a bit of waste.\n",
    "\n",
    "|               | CRA | CRB |\n",
    "|:--------------|:-----------:|:-----------:|\n",
    "| (LN) Light naphta  |     0.1     |     0.15    |\n",
    "| (MN) Medium naphta |     0.2     |     0.25    |\n",
    "| (HN) Heavy naphta  |     0.2     |     0.18    |\n",
    "| (LO) Light oil     |     0.12    |     0.08    |\n",
    "| (HO) Heavy oil     |     0.2     |     0.19    |\n",
    "| (R)  Residuum      |     0.13    |     0.12    |"
   ]
  },
  {
   "cell_type": "code",
   "execution_count": 4,
   "id": "naked-choice",
   "metadata": {
    "slideshow": {
     "slide_type": "fragment"
    }
   },
   "outputs": [],
   "source": [
    "ln = m.addVar(lb=0, name='LN')\n",
    "mn = m.addVar(lb=0, name='MN')\n",
    "hn = m.addVar(lb=0, name='HN')\n",
    "lo = m.addVar(lb=0, name='LO')\n",
    "ho = m.addVar(lb=0, name='HO')\n",
    "r = m.addVar(lb=0, name='R')"
   ]
  },
  {
   "cell_type": "markdown",
   "id": "working-amber",
   "metadata": {
    "slideshow": {
     "slide_type": "subslide"
    }
   },
   "source": [
    "This can be assured through a continuity contraint on the related variables. $$\n",
    "\\begin{bmatrix}\n",
    "0.1     &     0.15    \\\\\n",
    "0.2     &     0.25    \\\\\n",
    "0.2     &     0.18    \\\\\n",
    "0.12    &     0.08    \\\\\n",
    "0.2     &     0.19    \\\\\n",
    "0.13    &     0.12 \n",
    "\\end{bmatrix} \\begin{bmatrix} CRA \\\\ CRB \\end{bmatrix} = \\begin{bmatrix}\n",
    "LN \\\\\n",
    "MN \\\\\n",
    "HN \\\\\n",
    "LO \\\\\n",
    "HO \\\\\n",
    "R\n",
    "\\end{bmatrix}\n",
    "$$"
   ]
  },
  {
   "cell_type": "code",
   "execution_count": 5,
   "id": "fossil-fellow",
   "metadata": {
    "slideshow": {
     "slide_type": "fragment"
    }
   },
   "outputs": [],
   "source": [
    "m.addConstr(0.1*cra + 0.15*crb == ln, 'D1')\n",
    "m.addConstr(0.2*cra + 0.25*crb == mn, 'D2')\n",
    "m.addConstr(0.2*cra + 0.18*crb == hn, 'D3')\n",
    "m.addConstr(0.12*cra + 0.08*crb == lo, 'D4')\n",
    "m.addConstr(0.2*cra + 0.19*crb == ho, 'D5')\n",
    "m.addConstr(0.13*cra + 0.12*crb == r, 'D6')\n",
    "\n",
    "m.update()"
   ]
  },
  {
   "cell_type": "markdown",
   "id": "cognitive-costume",
   "metadata": {
    "slideshow": {
     "slide_type": "subslide"
    }
   },
   "source": [
    "The distillery has a limit of 45 000 barrels of crude oil a day. $$\n",
    "    CRA + CRB \\le 45 000\n",
    "$$"
   ]
  },
  {
   "cell_type": "code",
   "execution_count": 6,
   "id": "gorgeous-ceremony",
   "metadata": {
    "slideshow": {
     "slide_type": "fragment"
    }
   },
   "outputs": [],
   "source": [
    "m.addConstr(cra + crb <= 45000, 'D0')\n",
    "\n",
    "m.update()"
   ]
  },
  {
   "cell_type": "markdown",
   "id": "confidential-experiment",
   "metadata": {
    "slideshow": {
     "slide_type": "slide"
    }
   },
   "source": [
    "### Reforming\n",
    "\n",
    "Can be applied to **naphtas**, generating reformed gasoline.\n",
    "\n",
    "|                   | (LNRG) Light naphta | (MNRG) Medium naphta | (HNRG) Heavy naphta |\n",
    "|-------------------|:------------:|:-------------:|:------------:|\n",
    "| (RG) Reformed gasoline |      0.6     |      0.52     |     0.45     |"
   ]
  },
  {
   "cell_type": "code",
   "execution_count": 7,
   "id": "continuing-highland",
   "metadata": {
    "slideshow": {
     "slide_type": "fragment"
    }
   },
   "outputs": [],
   "source": [
    "lnrg = m.addVar(lb=0, name='LNRG')\n",
    "mnrg = m.addVar(lb=0, name='MNRG')\n",
    "hnrg = m.addVar(lb=0, name='HNRG')\n",
    "\n",
    "rg = m.addVar(lb=0, name='RG')"
   ]
  },
  {
   "cell_type": "markdown",
   "id": "published-broadcasting",
   "metadata": {
    "slideshow": {
     "slide_type": "subslide"
    }
   },
   "source": [
    "This gets us another continuity constraint. $$\n",
    "0.6 LNRG + 0.52 MNRG + 0.45 HNRG = RG\n",
    "$$"
   ]
  },
  {
   "cell_type": "code",
   "execution_count": 8,
   "id": "moving-tribe",
   "metadata": {
    "slideshow": {
     "slide_type": "fragment"
    }
   },
   "outputs": [],
   "source": [
    "m.addConstr(0.6*lnrg + 0.52*mnrg + 0.45*hnrg == rg, 'R2')\n",
    "\n",
    "m.update()"
   ]
  },
  {
   "cell_type": "markdown",
   "id": "solar-column",
   "metadata": {
    "slideshow": {
     "slide_type": "fragment"
    }
   },
   "source": [
    "At most 10 000 barrels of naphta can be reformed per day. $$\n",
    "    LNRG + MNRG + HNRG \\le 10000\n",
    "$$"
   ]
  },
  {
   "cell_type": "code",
   "execution_count": 9,
   "id": "collaborative-paradise",
   "metadata": {
    "slideshow": {
     "slide_type": "fragment"
    }
   },
   "outputs": [],
   "source": [
    "m.addConstr(lnrg + mnrg + hnrg <= 10000, 'R0')\n",
    "\n",
    "m.update()"
   ]
  },
  {
   "cell_type": "markdown",
   "id": "adopted-belief",
   "metadata": {
    "slideshow": {
     "slide_type": "slide"
    }
   },
   "source": [
    "### Cracking\n",
    "\n",
    "Applies to the **refined oils**.\n",
    "\n",
    "|                  | (LOCGO) Light oil | (HOCGO) Heavy oil |\n",
    "|------------------|:---------:|:---------:|\n",
    "| (CO) Cracked oil      |    0.68   |    0.75   |\n",
    "| (CG) Cracked gasoline |    0.28   |    0.20   |"
   ]
  },
  {
   "cell_type": "code",
   "execution_count": 10,
   "id": "technological-amateur",
   "metadata": {
    "slideshow": {
     "slide_type": "fragment"
    }
   },
   "outputs": [],
   "source": [
    "locgo = m.addVar(lb=0, name='LOCGO')\n",
    "hocgo = m.addVar(lb=0, name='HOCGO')\n",
    "\n",
    "co = m.addVar(lb=0, name='CO')\n",
    "cg = m.addVar(lb=0, name='CG')"
   ]
  },
  {
   "cell_type": "markdown",
   "id": "latest-shoulder",
   "metadata": {
    "slideshow": {
     "slide_type": "subslide"
    }
   },
   "source": [
    "$$\n",
    "    0.68 LOCGO + 0.75HOCGO = CO \\\\\n",
    "    0.28 LOCGO + 0.20HOCGO = CG\n",
    "$$"
   ]
  },
  {
   "cell_type": "code",
   "execution_count": 11,
   "id": "southeast-infrared",
   "metadata": {
    "slideshow": {
     "slide_type": "fragment"
    }
   },
   "outputs": [],
   "source": [
    "m.addConstr(0.68*locgo + 0.75*hocgo == co, 'C1')\n",
    "m.addConstr(0.28*locgo + 0.20*hocgo == cg, 'C2')\n",
    "\n",
    "m.update()"
   ]
  },
  {
   "cell_type": "markdown",
   "id": "hungarian-moisture",
   "metadata": {
    "slideshow": {
     "slide_type": "fragment"
    }
   },
   "source": [
    "This facility has a limit of 8000 barrels of oil a day. $$\n",
    "    LOCGO + HOCGO \\le 8000\n",
    "$$"
   ]
  },
  {
   "cell_type": "code",
   "execution_count": 12,
   "id": "involved-selling",
   "metadata": {
    "slideshow": {
     "slide_type": "fragment"
    }
   },
   "outputs": [],
   "source": [
    "m.addConstr(locgo + hocgo <= 8000, 'C0')\n",
    "\n",
    "m.update()"
   ]
  },
  {
   "cell_type": "markdown",
   "id": "central-message",
   "metadata": {
    "slideshow": {
     "slide_type": "subslide"
    }
   },
   "source": [
    "Cracking can also be applied to **residuum**.\n",
    "\n",
    "|          | (RLBO) Residuum |\n",
    "|----------|:--------:|\n",
    "| (LBO) Lube-oil |    0.5   |"
   ]
  },
  {
   "cell_type": "code",
   "execution_count": 13,
   "id": "formed-sleeve",
   "metadata": {
    "slideshow": {
     "slide_type": "fragment"
    }
   },
   "outputs": [],
   "source": [
    "rlbo = m.addVar(lb=0, name='RLBO')\n",
    "\n",
    "lbo = m.addVar(lb=0, name='LBO')"
   ]
  },
  {
   "cell_type": "markdown",
   "id": "induced-ranch",
   "metadata": {
    "slideshow": {
     "slide_type": "fragment"
    }
   },
   "source": [
    "$$\n",
    "    0.5 RLBO = LBO\n",
    "$$"
   ]
  },
  {
   "cell_type": "code",
   "execution_count": 14,
   "id": "falling-access",
   "metadata": {
    "slideshow": {
     "slide_type": "fragment"
    }
   },
   "outputs": [],
   "source": [
    "m.addConstr(0.5*rlbo == lbo, 'C3')\n",
    "\n",
    "m.update()"
   ]
  },
  {
   "cell_type": "markdown",
   "id": "orange-luxembourg",
   "metadata": {
    "slideshow": {
     "slide_type": "fragment"
    }
   },
   "source": [
    "_At least_ 500 barrels of lube oil must be produced daily, and _at most_ 1000 barrels. $$\n",
    "    LBO \\ge 500 \\\\\n",
    "    LBO \\le 1000\n",
    "$$"
   ]
  },
  {
   "cell_type": "code",
   "execution_count": 15,
   "id": "psychological-cycle",
   "metadata": {
    "slideshow": {
     "slide_type": "fragment"
    }
   },
   "outputs": [],
   "source": [
    "m.addConstr(lbo >= 500, 'C4')\n",
    "m.addConstr(lbo <= 1000, 'C5')\n",
    "\n",
    "m.update()"
   ]
  },
  {
   "cell_type": "markdown",
   "id": "royal-match",
   "metadata": {
    "slideshow": {
     "slide_type": "slide"
    }
   },
   "source": [
    "### Blending\n",
    "\n",
    "The materials can be blended into:\n",
    "- Motor fuel (petrol)\n",
    "- Jet fuel\n",
    "- Fuel oil"
   ]
  },
  {
   "cell_type": "markdown",
   "id": "sized-appearance",
   "metadata": {
    "slideshow": {
     "slide_type": "subslide"
    }
   },
   "source": [
    "#### Motor fuel\n",
    "\n",
    "A mixture between naphtas, reformed gasoline and cracked gasoline can generate premium motor fuel (PMF) or regular motor fuel (RMF) depending on its resulting octane number.\n",
    "$$\n",
    "    LNPMF + MNPMF + HNPMF + RGPMF + CGPMF = PMF \\\\\n",
    "    LNRMF + MNRMF + HNRMF + RGRMF + CGRMF = RMF\n",
    "$$"
   ]
  },
  {
   "cell_type": "code",
   "execution_count": 16,
   "id": "grand-adapter",
   "metadata": {
    "slideshow": {
     "slide_type": "fragment"
    }
   },
   "outputs": [],
   "source": [
    "lnpmf = m.addVar(lb=0, name='LNPMF')\n",
    "mnpmf = m.addVar(lb=0, name='MNPMF')\n",
    "hnpmf = m.addVar(lb=0, name='HNPMF')\n",
    "rgpmf = m.addVar(lb=0, name='RGPMF')\n",
    "cgpmf = m.addVar(lb=0, name='CGPMF')\n",
    "\n",
    "lnrmf = m.addVar(lb=0, name='LNRMF')\n",
    "mnrmf = m.addVar(lb=0, name='MNRMF')\n",
    "hnrmf = m.addVar(lb=0, name='HNRMF')\n",
    "rgrmf = m.addVar(lb=0, name='RGRMF')\n",
    "cgrmf = m.addVar(lb=0, name='CGRMF')\n",
    "\n",
    "pmf = m.addVar(lb=0, name='PMF')\n",
    "rmf = m.addVar(lb=0, name='RMF')\n",
    "\n",
    "m.addConstr(lnpmf + mnpmf + hnpmf + rgpmf + cgpmf == pmf, 'B1')\n",
    "m.addConstr(lnrmf + mnrmf + hnrmf + rgrmf + cgrmf == rmf, 'B2')\n",
    "\n",
    "m.update()"
   ]
  },
  {
   "cell_type": "markdown",
   "id": "spanish-marshall",
   "metadata": {
    "slideshow": {
     "slide_type": "subslide"
    }
   },
   "source": [
    "Now we can constrain the continuity of the naphta-variables\n",
    "$$\n",
    "    LN = LNRG + LNPMF + LNRMF \\\\\n",
    "    MN = MNRG + MNPMF + MNRMF \\\\\n",
    "    HN = HNRG + HNPMF + HNRMF\n",
    "$$\n",
    "and of the gasoline-variables.\n",
    "$$\n",
    "    CG = CGPMF + CGRMF \\\\\n",
    "    RG = RGPMF + RGRMF\n",
    "$$"
   ]
  },
  {
   "cell_type": "code",
   "execution_count": 17,
   "id": "appointed-plaintiff",
   "metadata": {
    "slideshow": {
     "slide_type": "fragment"
    }
   },
   "outputs": [],
   "source": [
    "m.addConstr(ln == lnrg + lnpmf + lnrmf, 'LN')\n",
    "m.addConstr(mn == mnrg + mnpmf + mnrmf, 'MN')\n",
    "m.addConstr(hn == hnrg + hnpmf + hnrmf, 'HN')\n",
    "\n",
    "m.addConstr(cg == cgpmf + cgrmf, 'CG')\n",
    "m.addConstr(rg == rgpmf + rgrmf, 'RG')\n",
    "\n",
    "m.update()"
   ]
  },
  {
   "cell_type": "markdown",
   "id": "attractive-measure",
   "metadata": {
    "slideshow": {
     "slide_type": "subslide"
    }
   },
   "source": [
    "If the octane number of the blend (assumed to be linear) is higher than 84, it is sold as _regular_. If it is higher than 94, it is sold as _premium_. Reformed gasoline and cracked gasoline have an octane number of 115 and 105 resp., while the light, medium and heavy naphtas have 90, 80 and 70 octane number resp.\n",
    "\n",
    "$$\n",
    "    90 LNPMF + 80 MNPMF + 70 HNPMF + 115 RGPMF + 105 CGPMF \\ge 94 PMF \\\\\n",
    "    90 LNRMF + 80 MNRMF + 70 HNRMF + 115 RGRMF + 105 CGRMF \\ge 84 RMF\n",
    "$$"
   ]
  },
  {
   "cell_type": "code",
   "execution_count": 18,
   "id": "ranking-leave",
   "metadata": {
    "slideshow": {
     "slide_type": "fragment"
    }
   },
   "outputs": [],
   "source": [
    "m.addConstr(90*lnpmf + 80*mnpmf + 70*hnpmf + 115*rgpmf + 105*cgpmf >= 94*pmf, 'B3')\n",
    "m.addConstr(90*lnrmf + 80*mnrmf + 70*hnrmf + 115*rgrmf + 105*cgrmf >= 84*rmf, 'B4')\n",
    "\n",
    "m.update()"
   ]
  },
  {
   "cell_type": "markdown",
   "id": "sustained-robin",
   "metadata": {
    "slideshow": {
     "slide_type": "fragment"
    }
   },
   "source": [
    "Premium motor fuel production must be at least 40 % that of regular motor fuel.\n",
    "$$\n",
    "    PMF \\ge 0.4 RMF\n",
    "$$"
   ]
  },
  {
   "cell_type": "code",
   "execution_count": 19,
   "id": "restricted-rally",
   "metadata": {
    "slideshow": {
     "slide_type": "fragment"
    }
   },
   "outputs": [],
   "source": [
    "m.addConstr(pmf >= 0.4*rmf, 'B5')\n",
    "\n",
    "m.update()"
   ]
  },
  {
   "cell_type": "markdown",
   "id": "established-amsterdam",
   "metadata": {
    "slideshow": {
     "slide_type": "subslide"
    }
   },
   "source": [
    "#### Jet fuel\n",
    "\n",
    "A mixture of light, heavy, cracked oils and residuum.\n",
    "$$\n",
    "    LOJF + HOJF + COJF + RJF = JF\n",
    "$$"
   ]
  },
  {
   "cell_type": "code",
   "execution_count": 20,
   "id": "falling-bahamas",
   "metadata": {
    "slideshow": {
     "slide_type": "fragment"
    }
   },
   "outputs": [],
   "source": [
    "lojf = m.addVar(lb=0, name='LOJF')\n",
    "hojf = m.addVar(lb=0, name='HOJF')\n",
    "cojf = m.addVar(lb=0, name='COJF')\n",
    "rjf = m.addVar(lb=0, name='RJF')\n",
    "\n",
    "jf = m.addVar(lb=0, name='JF')\n",
    "\n",
    "m.addConstr(lojf + hojf + cojf + rjf == jf, 'B6')\n",
    "\n",
    "m.update()"
   ]
  },
  {
   "cell_type": "markdown",
   "id": "colored-cable",
   "metadata": {
    "slideshow": {
     "slide_type": "subslide"
    }
   },
   "source": [
    "The vapour pressure must not exceed 1 kg.cm². It is assumed to blend linearly by volume, being 1.0, 0.6, 1.5 and 0.05 kg.cm² the vapour pressure of light, heavy, cracked oils and residuum resp.\n",
    "\n",
    "$$\n",
    "    1.0 LOJF + 0.6 HOJF + 1.5 COJF + 0.05 RJF \\le JF\n",
    "$$"
   ]
  },
  {
   "cell_type": "code",
   "execution_count": 21,
   "id": "banned-radiation",
   "metadata": {
    "slideshow": {
     "slide_type": "fragment"
    }
   },
   "outputs": [],
   "source": [
    "m.addConstr(lojf + 0.6*hojf + 1.5*cojf + 0.05*rjf <= jf, 'B7')\n",
    "\n",
    "m.update()"
   ]
  },
  {
   "cell_type": "markdown",
   "id": "hollow-buffer",
   "metadata": {
    "slideshow": {
     "slide_type": "subslide"
    }
   },
   "source": [
    "#### Fuel oil\n",
    "\n",
    "Similar to jet fuel but with a fixed ratio of the components.\n",
    "\n",
    "A ratio of 10:4:3:1 (total 18 parts) of light oil, cracked oil, heavy oil and residuum must be respected. Since this is a fixed ratio, we can use a single constraint (for each variable) to ensure both the ratio of production and the continuity.\n",
    "$$\n",
    "    LO = LOCGO + LOJF + \\frac{10}{18} FO \\\\\n",
    "    CO = COJF + \\frac{4}{18} FO \\\\\n",
    "    HO = HOCGO + HOJF + \\frac{3}{18} FO \\\\\n",
    "    R = RLBO + RJF + \\frac{1}{18} FO \\\\\n",
    "$$\n",
    "\n",
    "Note that this saves us from creating 4 additional variables, namely LOFO, COFO, HOFO and RFO."
   ]
  },
  {
   "cell_type": "code",
   "execution_count": 22,
   "id": "varied-dinner",
   "metadata": {
    "slideshow": {
     "slide_type": "fragment"
    }
   },
   "outputs": [],
   "source": [
    "fo = m.addVar(lb=0, name='FO')\n",
    "\n",
    "m.addConstr(lo == locgo + lojf + 0.55*fo, 'B8')\n",
    "m.addConstr(co == cojf + 0.22*fo, 'B9')\n",
    "m.addConstr(ho == hocgo + hojf + 0.17*fo/18, 'B10')\n",
    "m.addConstr(r == rlbo + rjf + 0.06*fo, 'B11')\n",
    "\n",
    "m.update()"
   ]
  },
  {
   "cell_type": "markdown",
   "id": "collected-skill",
   "metadata": {
    "slideshow": {
     "slide_type": "slide"
    }
   },
   "source": [
    "## Objective\n",
    "\n",
    "The fuels, fuel oil and lube-oil are the final products to be sold.\n",
    "\n",
    "|                          | Pounds per barrel |\n",
    "|--------------------------|:----------------:|\n",
    "| (PMF) Premium motor fuel |        7.0       |\n",
    "| (RMF) Regular motor fuel |        6.0       |\n",
    "| (JF) Jet fuel            |        4.0       |\n",
    "| (FO) Fuel oil            |        3.5       |\n",
    "| (LO) Lube-oil            |        1.5       |"
   ]
  },
  {
   "cell_type": "markdown",
   "id": "anticipated-healthcare",
   "metadata": {
    "slideshow": {
     "slide_type": "fragment"
    }
   },
   "source": [
    "$$\n",
    "    \\max 7.0 PMF + 6.0 RMF + 4.0 JF + 3.5 FO + 1.5 LBO\n",
    "$$"
   ]
  },
  {
   "cell_type": "code",
   "execution_count": 23,
   "id": "metric-beverage",
   "metadata": {
    "slideshow": {
     "slide_type": "fragment"
    }
   },
   "outputs": [],
   "source": [
    "m.setObjective(7*pmf + 6*rmf + 4*jf + 3.5*fo + 1.5*lbo, GRB.MAXIMIZE)\n",
    "\n",
    "m.update()"
   ]
  },
  {
   "cell_type": "code",
   "execution_count": 24,
   "id": "dying-concert",
   "metadata": {
    "slideshow": {
     "slide_type": "subslide"
    }
   },
   "outputs": [
    {
     "name": "stdout",
     "output_type": "stream",
     "text": [
      "Gurobi Optimizer version 9.1.1 build v9.1.1rc0 (linux64)\n",
      "Thread count: 2 physical cores, 4 logical processors, using up to 4 threads\n",
      "Optimize a model with 31 rows, 36 columns and 108 nonzeros\n",
      "Model fingerprint: 0xa4e4f8c1\n",
      "Coefficient statistics:\n",
      "  Matrix range     [9e-03, 1e+02]\n",
      "  Objective range  [2e+00, 7e+00]\n",
      "  Bounds range     [2e+04, 3e+04]\n",
      "  RHS range        [5e+02, 4e+04]\n",
      "Presolve removed 15 rows and 14 columns\n",
      "Presolve time: 0.03s\n",
      "Presolved: 16 rows, 22 columns, 72 nonzeros\n",
      "\n",
      "Iteration    Objective       Primal Inf.    Dual Inf.      Time\n",
      "       0    1.3000000e+31   5.000000e+29   1.300000e+01      0s\n",
      "      15    2.1136513e+05   0.000000e+00   0.000000e+00      0s\n",
      "\n",
      "Solved in 15 iterations and 0.04 seconds\n",
      "Optimal objective  2.113651348e+05\n",
      "CPU times: user 15 ms, sys: 7.85 ms, total: 22.9 ms\n",
      "Wall time: 53.3 ms\n"
     ]
    }
   ],
   "source": [
    "%time m.optimize()"
   ]
  },
  {
   "cell_type": "code",
   "execution_count": 31,
   "id": "sorted-original",
   "metadata": {
    "slideshow": {
     "slide_type": "subslide"
    }
   },
   "outputs": [
    {
     "name": "stdout",
     "output_type": "stream",
     "text": [
      "Obj: £211365\n",
      "\n",
      "CRA 15000                     CRB 30000\n",
      "LN 6000                       MN 10500\n",
      "HN 8400                       LO 4200\n",
      "HO 8700                       R 5550\n",
      "LNRG 0                        MNRG 0\n",
      "HNRG 5406.86                  RG 2433.09\n",
      "LOCGO 4200                    HOCGO 3800\n",
      "CO 5706                       CG 1936\n",
      "RLBO 1000                     LBO 500\n",
      "LNPMF 0                       MNPMF 3537.52\n",
      "HNPMF 0                       RGPMF 1344.25\n",
      "CGPMF 1936                    LNRMF 6000\n",
      "MNRMF 6962.48                 HNRMF 2993.14\n",
      "RGRMF 1088.83                 CGRMF 0\n",
      "PMF 6817.78                   RMF 17044.4\n",
      "LOJF 0                        HOJF 4900\n",
      "COJF 5706                     RJF 4550\n",
      "JF 15156                      FO 0\n"
     ]
    }
   ],
   "source": [
    "print('Obj: £%g\\n' % m.objVal)\n",
    "\n",
    "for i, v in enumerate(m.getVars()):\n",
    "    p = '%s %g' % (v.varName, v.x)\n",
    "    if i % 2:\n",
    "        print(p)\n",
    "    else:\n",
    "        print(p, end=' '*(30 - len(p)))"
   ]
  },
  {
   "cell_type": "markdown",
   "id": "joint-physiology",
   "metadata": {
    "slideshow": {
     "slide_type": "slide"
    }
   },
   "source": [
    "## Questions?"
   ]
  },
  {
   "cell_type": "markdown",
   "id": "sized-spouse",
   "metadata": {
    "slideshow": {
     "slide_type": "subslide"
    }
   },
   "source": [
    "## Thank you!"
   ]
  }
 ],
 "metadata": {
  "celltoolbar": "Slideshow",
  "kernelspec": {
   "display_name": "Python [conda env:opt] *",
   "language": "python",
   "name": "conda-env-opt-py"
  },
  "language_info": {
   "codemirror_mode": {
    "name": "ipython",
    "version": 3
   },
   "file_extension": ".py",
   "mimetype": "text/x-python",
   "name": "python",
   "nbconvert_exporter": "python",
   "pygments_lexer": "ipython3",
   "version": "3.8.5"
  }
 },
 "nbformat": 4,
 "nbformat_minor": 5
}
