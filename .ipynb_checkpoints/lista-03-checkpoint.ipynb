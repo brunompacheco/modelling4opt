{
 "cells": [
  {
   "cell_type": "markdown",
   "id": "innocent-cover",
   "metadata": {},
   "source": [
    "# Lista de Execícios 3"
   ]
  },
  {
   "cell_type": "code",
   "execution_count": 2,
   "id": "damaged-architecture",
   "metadata": {},
   "outputs": [],
   "source": [
    "import numpy as np\n",
    "\n",
    "from gurobipy import Model, GRB"
   ]
  },
  {
   "cell_type": "markdown",
   "id": "forward-thailand",
   "metadata": {},
   "source": [
    "## Exercício 1\n",
    "\n",
    "Aqui, a variável $x$ representa a quantidade de unidades consumida de cada alimento."
   ]
  },
  {
   "cell_type": "code",
   "execution_count": 23,
   "id": "psychological-suggestion",
   "metadata": {},
   "outputs": [
    {
     "name": "stdout",
     "output_type": "stream",
     "text": [
      "Gurobi Optimizer version 9.1.1 build v9.1.1rc0 (linux64)\n",
      "Thread count: 2 physical cores, 4 logical processors, using up to 4 threads\n",
      "Optimize a model with 4 rows, 4 columns and 14 nonzeros\n",
      "Model fingerprint: 0x7510f2cb\n",
      "Variable types: 0 continuous, 4 integer (0 binary)\n",
      "Coefficient statistics:\n",
      "  Matrix range     [3e+01, 5e+02]\n",
      "  Objective range  [2e-01, 8e-01]\n",
      "  Bounds range     [0e+00, 0e+00]\n",
      "  RHS range        [2e+02, 5e+02]\n",
      "Found heuristic solution: objective 1.4000000\n",
      "Presolve time: 0.00s\n",
      "Presolved: 4 rows, 4 columns, 14 nonzeros\n",
      "Variable types: 0 continuous, 4 integer (0 binary)\n",
      "\n",
      "Root relaxation: objective 8.727273e-01, 2 iterations, 0.00 seconds\n",
      "\n",
      "    Nodes    |    Current Node    |     Objective Bounds      |     Work\n",
      " Expl Unexpl |  Obj  Depth IntInf | Incumbent    BestBd   Gap | It/Node Time\n",
      "\n",
      "     0     0    0.87273    0    1    1.40000    0.87273  37.7%     -    0s\n",
      "H    0     0                       1.0000000    0.87273  12.7%     -    0s\n",
      "H    0     0                       0.9000000    0.87273  3.03%     -    0s\n",
      "     0     0    0.87273    0    1    0.90000    0.87273  3.03%     -    0s\n",
      "\n",
      "Explored 1 nodes (2 simplex iterations) in 0.03 seconds\n",
      "Thread count was 4 (of 4 available processors)\n",
      "\n",
      "Solution count 3: 0.9 1 1.4 \n",
      "\n",
      "Optimal solution found (tolerance 1.00e-04)\n",
      "Best objective 9.000000000000e-01, best bound 9.000000000000e-01, gap 0.0000%\n",
      "CPU times: user 29.2 ms, sys: 0 ns, total: 29.2 ms\n",
      "Wall time: 38.6 ms\n",
      "x[0] -0\n",
      "x[1] 3\n",
      "x[2] 1\n",
      "x[3] -0\n",
      "Obj: 0.9\n"
     ]
    }
   ],
   "source": [
    "A = np.array([\n",
    "    [400, 90, 60, 60],\n",
    "    [200, 60, 60, 110],\n",
    "    [150, 0, 110, 30],\n",
    "    [500, 0, 110, 140]\n",
    "]).T\n",
    "\n",
    "c = np.array([0.50, 0.20, 0.30, 0.80])\n",
    "\n",
    "b = np.array([500, 170, 280, 225])\n",
    "\n",
    "m1 = Model('Dieta')\n",
    "\n",
    "x = m1.addMVar(4, lb=[0, 0, 0, 0], vtype=GRB.INTEGER, name='x')\n",
    "\n",
    "m1.setObjective(c @ x, GRB.MINIMIZE)\n",
    "\n",
    "m1.addConstr(A @ x >= b, 'C')\n",
    "\n",
    "m1.update()\n",
    "\n",
    "%time m1.optimize()\n",
    "\n",
    "for v in m1.getVars():\n",
    "    print('%s %g' % (v.varName, v.x))\n",
    "\n",
    "print('Obj: %g' % m1.objVal)"
   ]
  },
  {
   "cell_type": "markdown",
   "id": "overhead-parker",
   "metadata": {},
   "source": [
    "Portanto, 3 colheres de sorvete de chocolate e 1 garrafa de refrigerante de cola por 90 centavos."
   ]
  },
  {
   "cell_type": "markdown",
   "id": "discrete-designer",
   "metadata": {},
   "source": [
    "## Exercício 2\n",
    "\n",
    "Podemos modelar o problema através de 3 variáveis: $r$ para a quantidade (em quilos) de material; $bl$ para a quantidade de Brute luxo processada; e $cl$ para a quantidade (em gramas) de Chanelle luxo processada. Para os cálculos, também usaremos $b=3r$ a quantidade de Brute padrão processada e $c=4r$ a quantidade de Chanelle padrão processada.\n",
    "\n",
    "A primeira limitação é a da quantidade de matéria prima $$\n",
    "    m \\le 4000\n",
    ".$$ Também temos a restrição do tempo, que podemos modelar como $$\n",
    "    time = m + 3bl + 2cl \\le 6000\n",
    ".$$ Além disso, não podemos processar mais gramas das linhas luxo do que a quantidade gerada das linhas padrão, então $$\n",
    "    bl \\le b = 3m \\\\\n",
    "    cl \\le c = 4m\n",
    ".$$ Assim, podemos escrever nossas restrições como $$\n",
    "    1m + 0bl + 0cl \\le 4000 \\\\\n",
    "    1m + 3bl + 2cl \\le 6000 \\\\\n",
    "    -3m + 1bl + 0cl \\le 0 \\\\\n",
    "    -4m + 0bl + 1cl \\le 0\n",
    ",$$ que nos permite manipulá-la de forma matricial.\n",
    "\n",
    "Quanto ao lucro, podemos escrever $$\n",
    "    profit = 7(b-bl) + 6(c-cl) + 18bl + 15cl -3m - 4bl -4cl \\\\\n",
    "        = 7(3m-bl) + 6(4m-cl) + 18bl + 15cl -3m - 4bl -4cl \\\\\n",
    "        = (21+24-3)m + (-7 +18-4)bl + (-6+15-4)cl \\\\\n",
    "        = 42m + 7bl + 5cl\n",
    "$$"
   ]
  },
  {
   "cell_type": "code",
   "execution_count": 30,
   "id": "secure-brazilian",
   "metadata": {},
   "outputs": [
    {
     "name": "stdout",
     "output_type": "stream",
     "text": [
      "Gurobi Optimizer version 9.1.1 build v9.1.1rc0 (linux64)\n",
      "Thread count: 2 physical cores, 4 logical processors, using up to 4 threads\n",
      "Optimize a model with 4 rows, 3 columns and 8 nonzeros\n",
      "Model fingerprint: 0x7f04fc9b\n",
      "Variable types: 0 continuous, 3 integer (0 binary)\n",
      "Coefficient statistics:\n",
      "  Matrix range     [1e+00, 4e+00]\n",
      "  Objective range  [5e+00, 4e+01]\n",
      "  Bounds range     [0e+00, 0e+00]\n",
      "  RHS range        [4e+03, 6e+03]\n",
      "Found heuristic solution: objective 172667.00000\n",
      "Presolve removed 1 rows and 0 columns\n",
      "Presolve time: 0.00s\n",
      "Presolved: 3 rows, 3 columns, 7 nonzeros\n",
      "Variable types: 0 continuous, 3 integer (0 binary)\n",
      "\n",
      "Root relaxation: objective 1.730000e+05, 1 iterations, 0.00 seconds\n",
      "\n",
      "    Nodes    |    Current Node    |     Objective Bounds      |     Work\n",
      " Expl Unexpl |  Obj  Depth IntInf | Incumbent    BestBd   Gap | It/Node Time\n",
      "\n",
      "*    0     0               0    173000.00000 173000.000  0.00%     -    0s\n",
      "\n",
      "Explored 0 nodes (1 simplex iterations) in 0.04 seconds\n",
      "Thread count was 4 (of 4 available processors)\n",
      "\n",
      "Solution count 2: 173000 172667 \n",
      "\n",
      "Optimal solution found (tolerance 1.00e-04)\n",
      "Best objective 1.730000000000e+05, best bound 1.730000000000e+05, gap 0.0000%\n",
      "CPU times: user 26.1 ms, sys: 4.81 ms, total: 30.9 ms\n",
      "Wall time: 56 ms\n",
      "x[0] 4000\n",
      "x[1] -0\n",
      "x[2] 1000\n",
      "Obj: 173000\n"
     ]
    }
   ],
   "source": [
    "m2 = Model('Rylon')\n",
    "\n",
    "# x[0] = m, x[1] = bl, x[2] = cl\n",
    "x = m2.addMVar(3, lb=[0, 0, 0], vtype=GRB.INTEGER, name='x')\n",
    "\n",
    "c = np.array([42, 7, 5])\n",
    "m2.setObjective(c @ x, GRB.MAXIMIZE)\n",
    "\n",
    "A = np.array([\n",
    "    [1, 0, 0],\n",
    "    [1, 3, 2],\n",
    "    [-3, 1, 0],\n",
    "    [-4, 0, 1]\n",
    "])\n",
    "b = np.array([4000, 6000, 0, 0])\n",
    "m2.addConstr(A @ x <= b, 'C')\n",
    "\n",
    "m2.update()\n",
    "\n",
    "%time m2.optimize()\n",
    "\n",
    "for v in m2.getVars():\n",
    "    print('%s %g' % (v.varName, v.x))\n",
    "\n",
    "print('Obj: %g' % m2.objVal)"
   ]
  },
  {
   "cell_type": "markdown",
   "id": "green-implement",
   "metadata": {},
   "source": [
    "## Exercício 3\n",
    "\n",
    "Neste problema, a variável $x$ representa as frações de cada investimento realizada."
   ]
  },
  {
   "cell_type": "code",
   "execution_count": 29,
   "id": "bright-meditation",
   "metadata": {},
   "outputs": [
    {
     "name": "stdout",
     "output_type": "stream",
     "text": [
      "Gurobi Optimizer version 9.1.1 build v9.1.1rc0 (linux64)\n",
      "Thread count: 2 physical cores, 4 logical processors, using up to 4 threads\n",
      "Optimize a model with 2 rows, 5 columns and 10 nonzeros\n",
      "Model fingerprint: 0xe183815b\n",
      "Coefficient statistics:\n",
      "  Matrix range     [1e+00, 5e+01]\n",
      "  Objective range  [1e+01, 4e+01]\n",
      "  Bounds range     [0e+00, 0e+00]\n",
      "  RHS range        [2e+01, 4e+01]\n",
      "Presolve time: 0.06s\n",
      "Presolved: 2 rows, 5 columns, 10 nonzeros\n",
      "\n",
      "Iteration    Objective       Primal Inf.    Dual Inf.      Time\n",
      "       0    5.9875000e+31   4.648438e+30   5.987500e+01      0s\n",
      "       1    1.1200000e+02   0.000000e+00   0.000000e+00      0s\n",
      "\n",
      "Solved in 1 iterations and 0.07 seconds\n",
      "Optimal objective  1.120000000e+02\n",
      "CPU times: user 41.4 ms, sys: 0 ns, total: 41.4 ms\n",
      "Wall time: 74.6 ms\n",
      "x[0] 0\n",
      "x[1] 0\n",
      "x[2] 0\n",
      "x[3] 8\n",
      "x[4] 0\n",
      "Obj: 112\n"
     ]
    }
   ],
   "source": [
    "m3 = Model('Investimentos')\n",
    "\n",
    "x = m3.addMVar(5, lb=[0, 0, 0, 0, 0], vtype=GRB.CONTINUOUS, name='x')\n",
    "\n",
    "vpl = np.array([13, 16, 10, 14, 39])\n",
    "m3.setObjective(vpl @ x, GRB.MAXIMIZE)\n",
    "\n",
    "i0 = np.array([11, 53, 5, 5, 29])\n",
    "m3.addConstr(i0 @ x <= 40, 'Instante_0')\n",
    "\n",
    "i1 = np.array([3, 6, 5, 1, 34])\n",
    "m3.addConstr(i1 @ x <= 20, 'Instante_0')\n",
    "\n",
    "m3.update()\n",
    "\n",
    "%time m3.optimize()\n",
    "\n",
    "for v in m3.getVars():\n",
    "    print('%s %g' % (v.varName, v.x))\n",
    "\n",
    "print('Obj: %g' % m3.objVal)"
   ]
  },
  {
   "cell_type": "markdown",
   "id": "convinced-circulation",
   "metadata": {},
   "source": [
    "## Lista 4"
   ]
  },
  {
   "cell_type": "code",
   "execution_count": 10,
   "id": "dominant-humanitarian",
   "metadata": {
    "scrolled": false
   },
   "outputs": [
    {
     "name": "stdout",
     "output_type": "stream",
     "text": [
      "Gurobi Optimizer version 9.1.1 build v9.1.1rc0 (linux64)\n",
      "Thread count: 2 physical cores, 4 logical processors, using up to 4 threads\n",
      "Optimize a model with 6 rows, 6 columns and 12 nonzeros\n",
      "Model fingerprint: 0x6a2f97bc\n",
      "Variable types: 0 continuous, 6 integer (0 binary)\n",
      "Coefficient statistics:\n",
      "  Matrix range     [1e+00, 1e+00]\n",
      "  Objective range  [1e+00, 1e+00]\n",
      "  Bounds range     [0e+00, 0e+00]\n",
      "  RHS range        [4e+00, 1e+01]\n",
      "Found heuristic solution: objective 26.0000000\n",
      "Presolve time: 0.00s\n",
      "Presolved: 6 rows, 6 columns, 12 nonzeros\n",
      "Variable types: 0 continuous, 6 integer (0 binary)\n",
      "\n",
      "Root relaxation: cutoff, 2 iterations, 0.00 seconds\n",
      "\n",
      "    Nodes    |    Current Node    |     Objective Bounds      |     Work\n",
      " Expl Unexpl |  Obj  Depth IntInf | Incumbent    BestBd   Gap | It/Node Time\n",
      "\n",
      "     0     0     cutoff    0        26.00000   26.00000  0.00%     -    0s\n",
      "\n",
      "Explored 0 nodes (2 simplex iterations) in 0.03 seconds\n",
      "Thread count was 4 (of 4 available processors)\n",
      "\n",
      "Solution count 1: 26 \n",
      "\n",
      "Optimal solution found (tolerance 1.00e-04)\n",
      "Best objective 2.600000000000e+01, best bound 2.600000000000e+01, gap 0.0000%\n",
      "CPU times: user 42.8 ms, sys: 518 µs, total: 43.3 ms\n",
      "Wall time: 48.8 ms\n",
      "x[0] 0\n",
      "x[1] 8\n",
      "x[2] 2\n",
      "x[3] 5\n",
      "x[4] 7\n",
      "x[5] 4\n",
      "Obj: 26\n"
     ]
    }
   ],
   "source": [
    "A = np.array([\n",
    "    [1, 0, 0, 0, 0, 1],\n",
    "    [1, 1, 0, 0, 0, 0],\n",
    "    [0, 1, 1, 0, 0, 0],\n",
    "    [0, 0, 1, 1, 0, 0],\n",
    "    [0, 0, 0, 1, 1, 0],\n",
    "    [0, 0, 0, 0, 1, 1],\n",
    "])\n",
    "\n",
    "b = np.array([4, 8, 10, 7, 12, 4])\n",
    "\n",
    "m = Model('BRT')\n",
    "\n",
    "x = m.addMVar(6, lb=[0, 0, 0, 0, 0, 0], vtype=GRB.INTEGER, name='x')\n",
    "\n",
    "m.setObjective(np.ones(6) @ x, GRB.MINIMIZE)\n",
    "\n",
    "m.addConstr(A @ x >= b, 'C')\n",
    "\n",
    "m.update()\n",
    "\n",
    "%time m.optimize()\n",
    "\n",
    "for v in m.getVars():\n",
    "    print('%s %g' % (v.varName, v.x))\n",
    "\n",
    "print('Obj: %g' % m.objVal)"
   ]
  }
 ],
 "metadata": {
  "kernelspec": {
   "display_name": "Python [conda env:opt] *",
   "language": "python",
   "name": "conda-env-opt-py"
  },
  "language_info": {
   "codemirror_mode": {
    "name": "ipython",
    "version": 3
   },
   "file_extension": ".py",
   "mimetype": "text/x-python",
   "name": "python",
   "nbconvert_exporter": "python",
   "pygments_lexer": "ipython3",
   "version": "3.8.5"
  }
 },
 "nbformat": 4,
 "nbformat_minor": 5
}
