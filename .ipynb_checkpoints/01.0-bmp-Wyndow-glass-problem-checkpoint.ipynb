{
 "cells": [
  {
   "cell_type": "code",
   "execution_count": 1,
   "id": "practical-narrow",
   "metadata": {},
   "outputs": [],
   "source": [
    "from gurobipy import Model, GRB"
   ]
  },
  {
   "cell_type": "code",
   "execution_count": 5,
   "id": "colored-arbitration",
   "metadata": {},
   "outputs": [
    {
     "data": {
      "text/plain": [
       "<gurobi.Model Continuous instance Wyndor_Glass: 0 constrs, 0 vars, No parameter changes>"
      ]
     },
     "execution_count": 5,
     "metadata": {},
     "output_type": "execute_result"
    }
   ],
   "source": [
    "# Create a new model\n",
    "m = Model('Wyndor_Glass')\n",
    "\n",
    "m"
   ]
  },
  {
   "cell_type": "code",
   "execution_count": 6,
   "id": "consistent-western",
   "metadata": {},
   "outputs": [
    {
     "data": {
      "text/plain": [
       "<gurobi.Var *Awaiting Model Update*>"
      ]
     },
     "execution_count": 6,
     "metadata": {},
     "output_type": "execute_result"
    }
   ],
   "source": [
    "# Create variables\n",
    "x1 = m.addVar(lb=0.0, vtype=GRB.CONTINUOUS, name='x1')\n",
    "x2 = m.addVar(lb=0.0, vtype=GRB.CONTINUOUS, name='x2')\n",
    "\n",
    "x1"
   ]
  },
  {
   "cell_type": "code",
   "execution_count": 7,
   "id": "adequate-mechanism",
   "metadata": {},
   "outputs": [
    {
     "data": {
      "text/plain": [
       "<gurobi.Var x1>"
      ]
     },
     "execution_count": 7,
     "metadata": {},
     "output_type": "execute_result"
    }
   ],
   "source": [
    "m.update()\n",
    "\n",
    "x1"
   ]
  },
  {
   "cell_type": "code",
   "execution_count": 8,
   "id": "tender-click",
   "metadata": {},
   "outputs": [],
   "source": [
    "# Set objective\n",
    "m.setObjective(3*x1 + 5*x2, GRB.MAXIMIZE)"
   ]
  },
  {
   "cell_type": "code",
   "execution_count": 9,
   "id": "precious-incident",
   "metadata": {},
   "outputs": [],
   "source": [
    "# Add constraints\n",
    "m.addConstr(x1 <= 4, 'C0')\n",
    "m.addConstr(2*x2 <= 12, 'C1')\n",
    "m.addConstr(3*x1 + 2*x2 <= 18, 'C2')\n",
    "m.update()"
   ]
  },
  {
   "cell_type": "code",
   "execution_count": 10,
   "id": "individual-discovery",
   "metadata": {},
   "outputs": [
    {
     "name": "stdout",
     "output_type": "stream",
     "text": [
      "Gurobi Optimizer version 9.1.1 build v9.1.1rc0 (linux64)\n",
      "Thread count: 2 physical cores, 4 logical processors, using up to 4 threads\n",
      "Optimize a model with 3 rows, 2 columns and 4 nonzeros\n",
      "Model fingerprint: 0xa9b37854\n",
      "Coefficient statistics:\n",
      "  Matrix range     [1e+00, 3e+00]\n",
      "  Objective range  [3e+00, 5e+00]\n",
      "  Bounds range     [0e+00, 0e+00]\n",
      "  RHS range        [4e+00, 2e+01]\n",
      "Presolve removed 2 rows and 0 columns\n",
      "Presolve time: 0.19s\n",
      "Presolved: 1 rows, 2 columns, 2 nonzeros\n",
      "\n",
      "Iteration    Objective       Primal Inf.    Dual Inf.      Time\n",
      "       0    4.5000000e+01   1.500000e+00   0.000000e+00      0s\n",
      "       1    3.6000000e+01   0.000000e+00   0.000000e+00      0s\n",
      "\n",
      "Solved in 1 iterations and 0.21 seconds\n",
      "Optimal objective  3.600000000e+01\n",
      "CPU times: user 23.9 ms, sys: 8.19 ms, total: 32.1 ms\n",
      "Wall time: 233 ms\n",
      "x1 2\n",
      "x2 6\n",
      "Obj: 36\n"
     ]
    }
   ],
   "source": [
    "%time m.optimize()\n",
    "\n",
    "for v in m.getVars():\n",
    "    print('%s %g' % (v.varName, v.x))\n",
    "\n",
    "print('Obj: %g' % m.objVal)"
   ]
  },
  {
   "cell_type": "markdown",
   "id": "wooden-taxation",
   "metadata": {},
   "source": [
    "# Problem Variations\n",
    "\n",
    "## 1)"
   ]
  },
  {
   "cell_type": "code",
   "execution_count": 11,
   "id": "internal-procurement",
   "metadata": {},
   "outputs": [],
   "source": [
    "m.setObjective(3*x1 + 2*x2, GRB.MAXIMIZE)\n",
    "m.update()"
   ]
  },
  {
   "cell_type": "code",
   "execution_count": 12,
   "id": "decimal-cornwall",
   "metadata": {},
   "outputs": [
    {
     "name": "stdout",
     "output_type": "stream",
     "text": [
      "Gurobi Optimizer version 9.1.1 build v9.1.1rc0 (linux64)\n",
      "Thread count: 2 physical cores, 4 logical processors, using up to 4 threads\n",
      "Optimize a model with 3 rows, 2 columns and 4 nonzeros\n",
      "Coefficient statistics:\n",
      "  Matrix range     [1e+00, 3e+00]\n",
      "  Objective range  [2e+00, 3e+00]\n",
      "  Bounds range     [0e+00, 0e+00]\n",
      "  RHS range        [4e+00, 2e+01]\n",
      "Iteration    Objective       Primal Inf.    Dual Inf.      Time\n",
      "       0    1.8000000e+01   0.000000e+00   0.000000e+00      0s\n",
      "\n",
      "Solved in 0 iterations and 0.03 seconds\n",
      "Optimal objective  1.800000000e+01\n",
      "CPU times: user 25.9 ms, sys: 789 µs, total: 26.7 ms\n",
      "Wall time: 49.2 ms\n",
      "x1 2\n",
      "x2 6\n",
      "Obj: 18\n"
     ]
    }
   ],
   "source": [
    "%time m.optimize()\n",
    "\n",
    "for v in m.getVars():\n",
    "    print('%s %g' % (v.varName, v.x))\n",
    "\n",
    "print('Obj: %g' % m.objVal)"
   ]
  },
  {
   "cell_type": "markdown",
   "id": "indian-denmark",
   "metadata": {},
   "source": [
    "## 2)"
   ]
  },
  {
   "cell_type": "code",
   "execution_count": 26,
   "id": "athletic-concord",
   "metadata": {},
   "outputs": [],
   "source": [
    "m = Model('Wyndor_Glass')\n",
    "\n",
    "x1 = m.addVar(lb=0.0, vtype=GRB.INTEGER, name=\"x1\")\n",
    "x2 = m.addVar(lb=0.0, vtype=GRB.INTEGER, name=\"x2\")\n",
    "\n",
    "# Set objective\n",
    "m.setObjective(3*x1 + 5*x2, GRB.MAXIMIZE)\n",
    "\n",
    "# Add constraints\n",
    "m.addConstr(x1 <= 4, 'C0')\n",
    "m.addConstr(2*x2 <= 12, 'C1')\n",
    "m.addConstr(3*x1 + 2*x2 <= 18, 'C2')\n",
    "\n",
    "m.update()"
   ]
  },
  {
   "cell_type": "code",
   "execution_count": 27,
   "id": "finite-lighting",
   "metadata": {},
   "outputs": [
    {
     "name": "stdout",
     "output_type": "stream",
     "text": [
      "Gurobi Optimizer version 9.1.1 build v9.1.1rc0 (linux64)\n",
      "Thread count: 2 physical cores, 4 logical processors, using up to 4 threads\n",
      "Optimize a model with 3 rows, 2 columns and 4 nonzeros\n",
      "Model fingerprint: 0x1a904294\n",
      "Variable types: 0 continuous, 2 integer (0 binary)\n",
      "Coefficient statistics:\n",
      "  Matrix range     [1e+00, 3e+00]\n",
      "  Objective range  [3e+00, 5e+00]\n",
      "  Bounds range     [0e+00, 0e+00]\n",
      "  RHS range        [4e+00, 2e+01]\n",
      "Found heuristic solution: objective 27.0000000\n",
      "Presolve removed 3 rows and 2 columns\n",
      "Presolve time: 0.07s\n",
      "Presolve: All rows and columns removed\n",
      "\n",
      "Explored 0 nodes (0 simplex iterations) in 0.09 seconds\n",
      "Thread count was 1 (of 4 available processors)\n",
      "\n",
      "Solution count 2: 36 \n",
      "\n",
      "Optimal solution found (tolerance 1.00e-04)\n",
      "Best objective 3.600000000000e+01, best bound 3.600000000000e+01, gap 0.0000%\n",
      "CPU times: user 28.1 ms, sys: 2.19 ms, total: 30.3 ms\n",
      "Wall time: 106 ms\n",
      "x1 2\n",
      "x2 6\n",
      "Obj: 36\n"
     ]
    }
   ],
   "source": [
    "%time m.optimize()\n",
    "\n",
    "for v in m.getVars():\n",
    "    print('%s %g' % (v.varName, v.x))\n",
    "\n",
    "print('Obj: %g' % m.objVal)"
   ]
  },
  {
   "cell_type": "markdown",
   "id": "unauthorized-scottish",
   "metadata": {},
   "source": [
    "## 3)"
   ]
  },
  {
   "cell_type": "code",
   "execution_count": 28,
   "id": "attractive-capitol",
   "metadata": {},
   "outputs": [],
   "source": [
    "m = Model('Wyndor_Glass')\n",
    "\n",
    "x1 = m.addVar(lb=0.0, vtype=GRB.INTEGER, name=\"x1\")\n",
    "x2 = m.addVar(lb=0.0, vtype=GRB.INTEGER, name=\"x2\")\n",
    "\n",
    "# Set objective\n",
    "m.setObjective(3*x1 + 5*x2, GRB.MAXIMIZE)\n",
    "\n",
    "# Add constraints\n",
    "m.addConstr(x1 <= 4, 'C0')\n",
    "m.addConstr(2*x2 <= 12, 'C1')\n",
    "m.addConstr(3*x1 + 4*x2 <= 15, 'C2')\n",
    "\n",
    "m.update()"
   ]
  },
  {
   "cell_type": "code",
   "execution_count": 29,
   "id": "conventional-vehicle",
   "metadata": {},
   "outputs": [
    {
     "name": "stdout",
     "output_type": "stream",
     "text": [
      "Gurobi Optimizer version 9.1.1 build v9.1.1rc0 (linux64)\n",
      "Thread count: 2 physical cores, 4 logical processors, using up to 4 threads\n",
      "Optimize a model with 3 rows, 2 columns and 4 nonzeros\n",
      "Model fingerprint: 0xe1ad365a\n",
      "Variable types: 0 continuous, 2 integer (0 binary)\n",
      "Coefficient statistics:\n",
      "  Matrix range     [1e+00, 4e+00]\n",
      "  Objective range  [3e+00, 5e+00]\n",
      "  Bounds range     [0e+00, 0e+00]\n",
      "  RHS range        [4e+00, 2e+01]\n",
      "Found heuristic solution: objective 12.0000000\n",
      "Presolve removed 3 rows and 2 columns\n",
      "Presolve time: 0.00s\n",
      "Presolve: All rows and columns removed\n",
      "\n",
      "Explored 0 nodes (0 simplex iterations) in 0.04 seconds\n",
      "Thread count was 1 (of 4 available processors)\n",
      "\n",
      "Solution count 2: 18 \n",
      "\n",
      "Optimal solution found (tolerance 1.00e-04)\n",
      "Best objective 1.800000000000e+01, best bound 1.800000000000e+01, gap 0.0000%\n",
      "CPU times: user 32 ms, sys: 569 µs, total: 32.6 ms\n",
      "Wall time: 68.4 ms\n",
      "x1 1\n",
      "x2 3\n",
      "Obj: 18\n"
     ]
    }
   ],
   "source": [
    "%time m.optimize()\n",
    "\n",
    "for v in m.getVars():\n",
    "    print('%s %g' % (v.varName, v.x))\n",
    "\n",
    "print('Obj: %g' % m.objVal)"
   ]
  },
  {
   "cell_type": "markdown",
   "id": "facial-keyboard",
   "metadata": {},
   "source": [
    "## 4)"
   ]
  },
  {
   "cell_type": "code",
   "execution_count": 32,
   "id": "magnetic-helmet",
   "metadata": {},
   "outputs": [],
   "source": [
    "m = Model('Wyndor_Glass')\n",
    "\n",
    "x1 = m.addVar(lb=0.0, vtype=GRB.INTEGER, name=\"x1\")\n",
    "x2 = m.addVar(lb=0.0, vtype=GRB.INTEGER, name=\"x2\")\n",
    "\n",
    "# Set objective\n",
    "m.setObjective(54*x1 - 9*x1*x1 + 78*x2 - 13*x2*x2, GRB.MAXIMIZE)\n",
    "\n",
    "# Add constraints\n",
    "m.addConstr(x1 <= 4, 'C0')\n",
    "m.addConstr(2*x2 <= 12, 'C1')\n",
    "m.addConstr(3*x1 + 2*x2 <= 18, 'C2')\n",
    "\n",
    "m.update()"
   ]
  },
  {
   "cell_type": "code",
   "execution_count": 33,
   "id": "advance-kingston",
   "metadata": {},
   "outputs": [
    {
     "name": "stdout",
     "output_type": "stream",
     "text": [
      "Gurobi Optimizer version 9.1.1 build v9.1.1rc0 (linux64)\n",
      "Thread count: 2 physical cores, 4 logical processors, using up to 4 threads\n",
      "Optimize a model with 3 rows, 2 columns and 4 nonzeros\n",
      "Model fingerprint: 0x065b7e0a\n",
      "Model has 2 quadratic objective terms\n",
      "Variable types: 0 continuous, 2 integer (0 binary)\n",
      "Coefficient statistics:\n",
      "  Matrix range     [1e+00, 3e+00]\n",
      "  Objective range  [5e+01, 8e+01]\n",
      "  QObjective range [2e+01, 3e+01]\n",
      "  Bounds range     [0e+00, 0e+00]\n",
      "  RHS range        [4e+00, 2e+01]\n",
      "Found heuristic solution: objective -0.0000000\n",
      "Presolve removed 2 rows and 0 columns\n",
      "Presolve time: 0.00s\n",
      "Presolved: 1 rows, 2 columns, 2 nonzeros\n",
      "Presolved model has 2 quadratic objective terms\n",
      "Variable types: 0 continuous, 2 integer (0 binary)\n",
      "\n",
      "Root relaxation: objective 1.980000e+02, 0 iterations, 0.00 seconds\n",
      "\n",
      "    Nodes    |    Current Node    |     Objective Bounds      |     Work\n",
      " Expl Unexpl |  Obj  Depth IntInf | Incumbent    BestBd   Gap | It/Node Time\n",
      "\n",
      "*    0     0               0     198.0000000  198.00000  0.00%     -    0s\n",
      "\n",
      "Explored 0 nodes (0 simplex iterations) in 0.05 seconds\n",
      "Thread count was 4 (of 4 available processors)\n",
      "\n",
      "Solution count 2: 198 -0 \n",
      "\n",
      "Optimal solution found (tolerance 1.00e-04)\n",
      "Best objective 1.980000000000e+02, best bound 1.980000000000e+02, gap 0.0000%\n",
      "CPU times: user 35.3 ms, sys: 8.72 ms, total: 44 ms\n",
      "Wall time: 73.5 ms\n",
      "x1 3\n",
      "x2 3\n",
      "Obj: 198\n"
     ]
    }
   ],
   "source": [
    "%time m.optimize()\n",
    "\n",
    "for v in m.getVars():\n",
    "    print('%s %g' % (v.varName, v.x))\n",
    "\n",
    "print('Obj: %g' % m.objVal)"
   ]
  },
  {
   "cell_type": "markdown",
   "id": "seeing-algorithm",
   "metadata": {},
   "source": [
    "## 5)"
   ]
  },
  {
   "cell_type": "code",
   "execution_count": 34,
   "id": "processed-virtue",
   "metadata": {},
   "outputs": [],
   "source": [
    "m = Model('Wyndor_Glass')\n",
    "\n",
    "x1 = m.addVar(lb=0.0, vtype=GRB.INTEGER, name=\"x1\")\n",
    "x2 = m.addVar(lb=0.0, vtype=GRB.INTEGER, name=\"x2\")\n",
    "\n",
    "# Set objective\n",
    "m.setObjective(54*x1 - 9*x1*x1 + 78*x2 - 13*x2*x2, GRB.MAXIMIZE)\n",
    "\n",
    "# Add constraints\n",
    "m.addConstr(x1 <= 4, 'C0')\n",
    "m.addQConstr(9*x1*x1 + 5*x2*x2 <= 216, 'C1')\n",
    "m.addConstr(3*x1 + 2*x2 <= 18, 'C2')\n",
    "\n",
    "m.update()"
   ]
  },
  {
   "cell_type": "code",
   "execution_count": 35,
   "id": "tender-integration",
   "metadata": {},
   "outputs": [
    {
     "name": "stdout",
     "output_type": "stream",
     "text": [
      "Gurobi Optimizer version 9.1.1 build v9.1.1rc0 (linux64)\n",
      "Thread count: 2 physical cores, 4 logical processors, using up to 4 threads\n",
      "Optimize a model with 2 rows, 2 columns and 3 nonzeros\n",
      "Model fingerprint: 0x4151e4f1\n",
      "Model has 2 quadratic objective terms\n",
      "Model has 1 quadratic constraint\n",
      "Variable types: 0 continuous, 2 integer (0 binary)\n",
      "Coefficient statistics:\n",
      "  Matrix range     [1e+00, 3e+00]\n",
      "  QMatrix range    [5e+00, 9e+00]\n",
      "  Objective range  [5e+01, 8e+01]\n",
      "  QObjective range [2e+01, 3e+01]\n",
      "  Bounds range     [0e+00, 0e+00]\n",
      "  RHS range        [4e+00, 2e+01]\n",
      "  QRHS range       [2e+02, 2e+02]\n",
      "Found heuristic solution: objective -0.0000000\n",
      "Presolve removed 1 rows and 0 columns\n",
      "Presolve time: 0.08s\n",
      "Presolved: 1 rows, 2 columns, 2 nonzeros\n",
      "Presolved model has 2 quadratic objective terms\n",
      "Presolved model has 1 quadratic constraint(s)\n",
      "Variable types: 0 continuous, 2 integer (0 binary)\n",
      "\n",
      "Root relaxation: objective 1.980000e+02, 0 iterations, 0.00 seconds\n",
      "\n",
      "    Nodes    |    Current Node    |     Objective Bounds      |     Work\n",
      " Expl Unexpl |  Obj  Depth IntInf | Incumbent    BestBd   Gap | It/Node Time\n",
      "\n",
      "*    0     0               0     198.0000000  198.00000  0.00%     -    0s\n",
      "\n",
      "Explored 0 nodes (0 simplex iterations) in 0.14 seconds\n",
      "Thread count was 4 (of 4 available processors)\n",
      "\n",
      "Solution count 2: 198 -0 \n",
      "\n",
      "Optimal solution found (tolerance 1.00e-04)\n",
      "Best objective 1.980000000000e+02, best bound 1.980000000000e+02, gap 0.0000%\n",
      "CPU times: user 63.7 ms, sys: 4.48 ms, total: 68.2 ms\n",
      "Wall time: 177 ms\n",
      "x1 3\n",
      "x2 3\n",
      "Obj: 198\n"
     ]
    }
   ],
   "source": [
    "%time m.optimize()\n",
    "\n",
    "for v in m.getVars():\n",
    "    print('%s %g' % (v.varName, v.x))\n",
    "\n",
    "print('Obj: %g' % m.objVal)"
   ]
  }
 ],
 "metadata": {
  "kernelspec": {
   "display_name": "Python [conda env:opt] *",
   "language": "python",
   "name": "conda-env-opt-py"
  },
  "language_info": {
   "codemirror_mode": {
    "name": "ipython",
    "version": 3
   },
   "file_extension": ".py",
   "mimetype": "text/x-python",
   "name": "python",
   "nbconvert_exporter": "python",
   "pygments_lexer": "ipython3",
   "version": "3.8.5"
  }
 },
 "nbformat": 4,
 "nbformat_minor": 5
}
