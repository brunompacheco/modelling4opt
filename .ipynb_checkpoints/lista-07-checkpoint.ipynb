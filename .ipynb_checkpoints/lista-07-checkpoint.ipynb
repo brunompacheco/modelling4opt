{
 "cells": [
  {
   "cell_type": "markdown",
   "id": "innocent-cover",
   "metadata": {},
   "source": [
    "# Lista de Execícios 7"
   ]
  },
  {
   "cell_type": "code",
   "execution_count": 1,
   "id": "damaged-architecture",
   "metadata": {},
   "outputs": [],
   "source": [
    "import numpy as np\n",
    "\n",
    "from gurobipy import Model, GRB, quicksum, LinExpr"
   ]
  },
  {
   "cell_type": "markdown",
   "id": "forward-thailand",
   "metadata": {},
   "source": [
    "## Exercício 1"
   ]
  },
  {
   "cell_type": "code",
   "execution_count": 193,
   "id": "primary-particle",
   "metadata": {},
   "outputs": [
    {
     "name": "stdout",
     "output_type": "stream",
     "text": [
      "Gurobi Optimizer version 9.1.1 build v9.1.1rc0 (linux64)\n",
      "Thread count: 2 physical cores, 4 logical processors, using up to 4 threads\n",
      "Optimize a model with 6 rows, 12 columns and 21 nonzeros\n",
      "Model fingerprint: 0x5cb34794\n",
      "Coefficient statistics:\n",
      "  Matrix range     [1e+00, 1e+00]\n",
      "  Objective range  [3e+02, 1e+100]\n",
      "  Bounds range     [0e+00, 0e+00]\n",
      "  RHS range        [2e+01, 4e+01]\n",
      "Warning: Model contains large objective coefficients\n",
      "         Consider reformulating model or setting NumericFocus parameter\n",
      "         to avoid numerical issues.\n",
      "Presolve time: 0.01s\n",
      "Presolved: 6 rows, 12 columns, 21 nonzeros\n",
      "\n",
      "Iteration    Objective       Primal Inf.    Dual Inf.      Time\n",
      "       0    2.8850000e+04   5.400000e+01   0.000000e+00      0s\n",
      "       4    3.7695000e+04   0.000000e+00   0.000000e+00      0s\n",
      "\n",
      "Solved in 4 iterations and 0.02 seconds\n",
      "Optimal objective  3.769500000e+04\n",
      "CPU times: user 17.1 ms, sys: 4.22 ms, total: 21.3 ms\n",
      "Wall time: 22.3 ms\n",
      "C0 0\n",
      "C1 0\n",
      "C2 22.5\n",
      "C3 1\n",
      "C4 35\n",
      "C5 0\n",
      "C6 24.5\n",
      "C7 0\n",
      "C8 2.5\n",
      "C9 4.5\n",
      "C10 0\n",
      "C11 0\n",
      "Obj: 37695\n"
     ]
    }
   ],
   "source": [
    "C = np.array([\n",
    "    [600, 700, 400],\n",
    "    [320, 300, 350],\n",
    "    [500, 480, 450],\n",
    "    [1000, 1000, GRB.INFINITY],\n",
    "])\n",
    "C = dict(np.ndenumerate(C))\n",
    "\n",
    "S = np.array([22.5, 36, 27, float('inf')])\n",
    "\n",
    "D = np.array([30, 35, 25])\n",
    "\n",
    "m = Model('CELESC')\n",
    "\n",
    "from itertools import product\n",
    "\n",
    "X = m.addVars(product(range(4), range(3)), lb=0.0)\n",
    "m.update()\n",
    "\n",
    "obj = quicksum([C[i,j] * X[i,j] for i in range(4) for j in range(3)])\n",
    "m.setObjective(obj, GRB.MINIMIZE)\n",
    "m.update()\n",
    "\n",
    "for i in range(3):\n",
    "    m.addConstr(X.sum(i, '*') <= S[i], 'supply')\n",
    "\n",
    "for j in range(3):\n",
    "    m.addConstr(X.sum('*', j) == D[j], 'demand')\n",
    "\n",
    "m.update()\n",
    "\n",
    "%time m.optimize()\n",
    "\n",
    "for v in m.getVars():\n",
    "    print('%s %g' % (v.varName, v.x))\n",
    "\n",
    "print('Obj: %g' % m.objVal)"
   ]
  },
  {
   "cell_type": "code",
   "execution_count": 194,
   "id": "induced-promotion",
   "metadata": {},
   "outputs": [
    {
     "data": {
      "text/plain": [
       "{(0, 0): <gurobi.Var C0 (value 0.0)>,\n",
       " (0, 1): <gurobi.Var C1 (value 0.0)>,\n",
       " (0, 2): <gurobi.Var C2 (value 22.5)>,\n",
       " (1, 0): <gurobi.Var C3 (value 1.0)>,\n",
       " (1, 1): <gurobi.Var C4 (value 35.0)>,\n",
       " (1, 2): <gurobi.Var C5 (value 0.0)>,\n",
       " (2, 0): <gurobi.Var C6 (value 24.5)>,\n",
       " (2, 1): <gurobi.Var C7 (value 0.0)>,\n",
       " (2, 2): <gurobi.Var C8 (value 2.5)>,\n",
       " (3, 0): <gurobi.Var C9 (value 4.5)>,\n",
       " (3, 1): <gurobi.Var C10 (value 0.0)>,\n",
       " (3, 2): <gurobi.Var C11 (value 0.0)>}"
      ]
     },
     "execution_count": 194,
     "metadata": {},
     "output_type": "execute_result"
    }
   ],
   "source": [
    "X"
   ]
  },
  {
   "cell_type": "code",
   "execution_count": 191,
   "id": "comprehensive-decline",
   "metadata": {},
   "outputs": [
    {
     "name": "stdout",
     "output_type": "stream",
     "text": [
      "Gurobi Optimizer version 9.1.1 build v9.1.1rc0 (linux64)\n",
      "Thread count: 2 physical cores, 4 logical processors, using up to 4 threads\n",
      "Optimize a model with 6 rows, 12 columns and 21 nonzeros\n",
      "Model fingerprint: 0x91b118df\n",
      "Coefficient statistics:\n",
      "  Matrix range     [1e+00, 1e+00]\n",
      "  Objective range  [3e+02, 1e+100]\n",
      "  Bounds range     [0e+00, 0e+00]\n",
      "  RHS range        [2e+01, 4e+01]\n",
      "Warning: Model contains large objective coefficients\n",
      "         Consider reformulating model or setting NumericFocus parameter\n",
      "         to avoid numerical issues.\n",
      "Presolve time: 0.03s\n",
      "Presolved: 6 rows, 12 columns, 21 nonzeros\n",
      "\n",
      "Iteration    Objective       Primal Inf.    Dual Inf.      Time\n",
      "       0    3.4620000e+04   7.200000e+01   0.000000e+00      0s\n",
      "       6    5.5305000e+04   0.000000e+00   0.000000e+00      0s\n",
      "\n",
      "Solved in 6 iterations and 0.05 seconds\n",
      "Optimal objective  5.530500000e+04\n",
      "CPU times: user 46.3 ms, sys: 7.71 ms, total: 54 ms\n",
      "Wall time: 53.8 ms\n",
      "C0 0\n",
      "C1 0\n",
      "C2 22.5\n",
      "C3 0\n",
      "C4 36\n",
      "C5 0\n",
      "C6 13.5\n",
      "C7 6\n",
      "C8 7.5\n",
      "C9 22.5\n",
      "C10 0\n",
      "C11 0\n",
      "Obj: 55305\n"
     ]
    }
   ],
   "source": [
    "C = np.array([\n",
    "    [600, 700, 400],\n",
    "    [320, 300, 350],\n",
    "    [500, 480, 450],\n",
    "    [1000, 1000, GRB.INFINITY],\n",
    "])\n",
    "C = dict(np.ndenumerate(C))\n",
    "\n",
    "S = np.array([22.5, 36, 27, float('inf')])\n",
    "\n",
    "D = np.array([30, 35, 25]) * 1.2\n",
    "\n",
    "m = Model('CELESC')\n",
    "\n",
    "from itertools import product\n",
    "\n",
    "X = m.addVars(product(range(4), range(3)), lb=0.0)\n",
    "m.update()\n",
    "\n",
    "obj = quicksum([C[i,j] * X[i,j] for i in range(4) for j in range(3)])\n",
    "m.setObjective(obj, GRB.MINIMIZE)\n",
    "m.update()\n",
    "\n",
    "for i in range(3):\n",
    "    m.addConstr(X.sum(i, '*') <= S[i], 'supply')\n",
    "\n",
    "for j in range(3):\n",
    "    m.addConstr(X.sum('*', j) == D[j], 'demand')\n",
    "\n",
    "m.update()\n",
    "\n",
    "%time m.optimize()\n",
    "\n",
    "for v in m.getVars():\n",
    "    print('%s %g' % (v.varName, v.x))\n",
    "\n",
    "print('Obj: %g' % m.objVal)"
   ]
  },
  {
   "cell_type": "code",
   "execution_count": 192,
   "id": "dependent-brown",
   "metadata": {},
   "outputs": [
    {
     "data": {
      "text/plain": [
       "{(0, 0): <gurobi.Var C0 (value 0.0)>,\n",
       " (0, 1): <gurobi.Var C1 (value 0.0)>,\n",
       " (0, 2): <gurobi.Var C2 (value 22.5)>,\n",
       " (1, 0): <gurobi.Var C3 (value 0.0)>,\n",
       " (1, 1): <gurobi.Var C4 (value 36.0)>,\n",
       " (1, 2): <gurobi.Var C5 (value 0.0)>,\n",
       " (2, 0): <gurobi.Var C6 (value 13.5)>,\n",
       " (2, 1): <gurobi.Var C7 (value 6.0)>,\n",
       " (2, 2): <gurobi.Var C8 (value 7.5)>,\n",
       " (3, 0): <gurobi.Var C9 (value 22.5)>,\n",
       " (3, 1): <gurobi.Var C10 (value 0.0)>,\n",
       " (3, 2): <gurobi.Var C11 (value 0.0)>}"
      ]
     },
     "execution_count": 192,
     "metadata": {},
     "output_type": "execute_result"
    }
   ],
   "source": [
    "X"
   ]
  },
  {
   "cell_type": "markdown",
   "id": "strong-tenant",
   "metadata": {},
   "source": [
    "## Exercício 2"
   ]
  },
  {
   "cell_type": "code",
   "execution_count": 4,
   "id": "chief-slovenia",
   "metadata": {},
   "outputs": [
    {
     "name": "stdout",
     "output_type": "stream",
     "text": [
      "Gurobi Optimizer version 9.1.1 build v9.1.1rc0 (linux64)\n",
      "Thread count: 2 physical cores, 4 logical processors, using up to 4 threads\n",
      "Optimize a model with 6 rows, 16 columns and 24 nonzeros\n",
      "Model fingerprint: 0x4ef1fb90\n",
      "Variable types: 0 continuous, 16 integer (0 binary)\n",
      "Coefficient statistics:\n",
      "  Matrix range     [1e+00, 1e+00]\n",
      "  Objective range  [2e+01, 1e+100]\n",
      "  Bounds range     [1e+00, 1e+00]\n",
      "  RHS range        [1e+00, 1e+00]\n",
      "Warning: Model contains large objective coefficients\n",
      "         Consider reformulating model or setting NumericFocus parameter\n",
      "         to avoid numerical issues.\n",
      "Found heuristic solution: objective 150.0000000\n",
      "Presolve removed 6 rows and 16 columns\n",
      "Presolve time: 0.03s\n",
      "Presolve: All rows and columns removed\n",
      "\n",
      "Explored 0 nodes (0 simplex iterations) in 0.24 seconds\n",
      "Thread count was 1 (of 4 available processors)\n",
      "\n",
      "Solution count 2: 90 \n",
      "\n",
      "Optimal solution found (tolerance 1.00e-04)\n",
      "Best objective 9.000000000000e+01, best bound 9.000000000000e+01, gap 0.0000%\n",
      "CPU times: user 32.2 ms, sys: 8 ms, total: 40.2 ms\n",
      "Wall time: 252 ms\n",
      "C0 1\n",
      "C1 0\n",
      "C2 0\n",
      "C3 0\n",
      "C4 0\n",
      "C5 0\n",
      "C6 1\n",
      "C7 0\n",
      "C8 0\n",
      "C9 0\n",
      "C10 0\n",
      "C11 1\n",
      "C12 0\n",
      "C13 1\n",
      "C14 0\n",
      "C15 0\n",
      "Obj: 90\n"
     ]
    }
   ],
   "source": [
    "C = np.array([\n",
    "    [50, 50, GRB.INFINITY, 20],\n",
    "    [70, 40, 20, 30],\n",
    "    [90, 30, 50, GRB.INFINITY],\n",
    "    [70, 20, 60, 70],\n",
    "])\n",
    "C = dict(np.ndenumerate(C))\n",
    "\n",
    "m = Model('Tarefas')\n",
    "\n",
    "from itertools import product\n",
    "\n",
    "X = m.addVars(product(range(4), range(4)), lb=0, ub=1, vtype=GRB.INTEGER)\n",
    "m.update()\n",
    "\n",
    "obj = quicksum([C[i,j] * X[i,j] for i in range(4) for j in range(3)])\n",
    "m.setObjective(obj, GRB.MINIMIZE)\n",
    "m.update()\n",
    "\n",
    "for i in range(3):\n",
    "    m.addConstr(X.sum(i, '*') == 1, 'supply')\n",
    "\n",
    "for j in range(3):\n",
    "    m.addConstr(X.sum('*', j) == 1, 'demand')\n",
    "\n",
    "m.update()\n",
    "\n",
    "%time m.optimize()\n",
    "\n",
    "for v in m.getVars():\n",
    "    print('%s %g' % (v.varName, v.x))\n",
    "\n",
    "print('Obj: %g' % m.objVal)"
   ]
  },
  {
   "cell_type": "code",
   "execution_count": 5,
   "id": "aging-chapter",
   "metadata": {},
   "outputs": [
    {
     "data": {
      "text/plain": [
       "{(0, 0): <gurobi.Var C0 (value 1.0)>,\n",
       " (0, 1): <gurobi.Var C1 (value 0.0)>,\n",
       " (0, 2): <gurobi.Var C2 (value 0.0)>,\n",
       " (0, 3): <gurobi.Var C3 (value 0.0)>,\n",
       " (1, 0): <gurobi.Var C4 (value 0.0)>,\n",
       " (1, 1): <gurobi.Var C5 (value 0.0)>,\n",
       " (1, 2): <gurobi.Var C6 (value 1.0)>,\n",
       " (1, 3): <gurobi.Var C7 (value 0.0)>,\n",
       " (2, 0): <gurobi.Var C8 (value 0.0)>,\n",
       " (2, 1): <gurobi.Var C9 (value 0.0)>,\n",
       " (2, 2): <gurobi.Var C10 (value 0.0)>,\n",
       " (2, 3): <gurobi.Var C11 (value 1.0)>,\n",
       " (3, 0): <gurobi.Var C12 (value 0.0)>,\n",
       " (3, 1): <gurobi.Var C13 (value 1.0)>,\n",
       " (3, 2): <gurobi.Var C14 (value 0.0)>,\n",
       " (3, 3): <gurobi.Var C15 (value 0.0)>}"
      ]
     },
     "execution_count": 5,
     "metadata": {},
     "output_type": "execute_result"
    }
   ],
   "source": [
    "X"
   ]
  },
  {
   "cell_type": "markdown",
   "id": "smart-router",
   "metadata": {},
   "source": [
    "## Exercício 3"
   ]
  },
  {
   "cell_type": "code",
   "execution_count": 10,
   "id": "caroline-clothing",
   "metadata": {},
   "outputs": [
    {
     "data": {
      "text/plain": [
       "<gurobi.LinExpr: 0.0>"
      ]
     },
     "execution_count": 10,
     "metadata": {},
     "output_type": "execute_result"
    }
   ],
   "source": [
    "X.sum('*', 1)"
   ]
  },
  {
   "cell_type": "code",
   "execution_count": 12,
   "id": "valuable-present",
   "metadata": {},
   "outputs": [
    {
     "name": "stdout",
     "output_type": "stream",
     "text": [
      "Gurobi Optimizer version 9.1.1 build v9.1.1rc0 (linux64)\n",
      "Thread count: 2 physical cores, 4 logical processors, using up to 4 threads\n",
      "Optimize a model with 8 rows, 13 columns and 26 nonzeros\n",
      "Model fingerprint: 0xfec3d074\n",
      "Variable types: 0 continuous, 13 integer (0 binary)\n",
      "Coefficient statistics:\n",
      "  Matrix range     [1e+00, 1e+00]\n",
      "  Objective range  [2e-01, 6e+00]\n",
      "  Bounds range     [0e+00, 0e+00]\n",
      "  RHS range        [2e+02, 1e+03]\n",
      "Found heuristic solution: objective 14860.000000\n",
      "Presolve removed 3 rows and 5 columns\n",
      "Presolve time: 0.13s\n",
      "Presolved: 5 rows, 8 columns, 16 nonzeros\n",
      "Variable types: 0 continuous, 8 integer (0 binary)\n",
      "\n",
      "Root relaxation: objective 8.016000e+03, 2 iterations, 0.02 seconds\n",
      "\n",
      "    Nodes    |    Current Node    |     Objective Bounds      |     Work\n",
      " Expl Unexpl |  Obj  Depth IntInf | Incumbent    BestBd   Gap | It/Node Time\n",
      "\n",
      "*    0     0               0    8016.0000000 8016.00000  0.00%     -    0s\n",
      "\n",
      "Explored 0 nodes (2 simplex iterations) in 0.37 seconds\n",
      "Thread count was 4 (of 4 available processors)\n",
      "\n",
      "Solution count 2: 8016 14860 \n",
      "\n",
      "Optimal solution found (tolerance 1.00e-04)\n",
      "Best objective 8.016000000000e+03, best bound 8.016000000000e+03, gap 0.0000%\n",
      "CPU times: user 46.7 ms, sys: 7.65 ms, total: 54.3 ms\n",
      "Wall time: 392 ms\n",
      "C0 -0\n",
      "C1 900\n",
      "C2 1400\n",
      "C3 0\n",
      "C4 1000\n",
      "C5 0\n",
      "C6 1060\n",
      "C7 1100\n",
      "C8 -0\n",
      "C9 -0\n",
      "C10 -0\n",
      "C11 760\n",
      "C12 1200\n",
      "Obj: 8016\n"
     ]
    }
   ],
   "source": [
    "C = {\n",
    "    (1,4): 1.0,\n",
    "    (1,5): 0.3,\n",
    "    (2,4): 0.8,\n",
    "    (2,5): 4.3,\n",
    "    (3,4): 2.0,\n",
    "    (3,5): 4.6,\n",
    "    (4,5): 0.5,\n",
    "    (4,6): 0.2,\n",
    "    (4,7): 4.5,\n",
    "    (4,8): 6.0,\n",
    "    (5,6): 3.0,\n",
    "    (5,7): 2.1,\n",
    "    (5,8): 1.9,\n",
    "}\n",
    "\n",
    "m = Model('Bicicletas')\n",
    "\n",
    "from itertools import product\n",
    "\n",
    "X = m.addVars(C.keys(), lb=0, vtype=GRB.INTEGER)\n",
    "m.update()\n",
    "\n",
    "m.setObjective(X.prod(C), GRB.MINIMIZE)\n",
    "m.update()\n",
    "\n",
    "B = np.array([\n",
    "    -900,\n",
    "    -1400,\n",
    "    -1000,\n",
    "    240,\n",
    "    0,\n",
    "    1100,\n",
    "    1000,\n",
    "    1200\n",
    "])\n",
    "\n",
    "for k in range(1, 8+1):\n",
    "    b = B[k-1]\n",
    "    \n",
    "    if b <= 0:\n",
    "        # guarantees that the supply is consumed\n",
    "        m.addConstr(X.sum('*', k) - X.sum(k, '*') == b)\n",
    "    else:\n",
    "        m.addConstr(X.sum('*', k) - X.sum(k, '*') <= b)\n",
    "        \n",
    "m.update()\n",
    "\n",
    "%time m.optimize()\n",
    "\n",
    "for v in m.getVars():\n",
    "    print('%s %g' % (v.varName, v.x))\n",
    "\n",
    "print('Obj: %g' % m.objVal)"
   ]
  },
  {
   "cell_type": "code",
   "execution_count": 13,
   "id": "respiratory-knowing",
   "metadata": {},
   "outputs": [
    {
     "data": {
      "text/plain": [
       "{(1, 4): <gurobi.Var C0 (value -0.0)>,\n",
       " (1, 5): <gurobi.Var C1 (value 900.0)>,\n",
       " (2, 4): <gurobi.Var C2 (value 1400.0)>,\n",
       " (2, 5): <gurobi.Var C3 (value 0.0)>,\n",
       " (3, 4): <gurobi.Var C4 (value 1000.0)>,\n",
       " (3, 5): <gurobi.Var C5 (value 0.0)>,\n",
       " (4, 5): <gurobi.Var C6 (value 1060.0)>,\n",
       " (4, 6): <gurobi.Var C7 (value 1100.0)>,\n",
       " (4, 7): <gurobi.Var C8 (value -0.0)>,\n",
       " (4, 8): <gurobi.Var C9 (value -0.0)>,\n",
       " (5, 6): <gurobi.Var C10 (value -0.0)>,\n",
       " (5, 7): <gurobi.Var C11 (value 760.0)>,\n",
       " (5, 8): <gurobi.Var C12 (value 1200.0)>}"
      ]
     },
     "execution_count": 13,
     "metadata": {},
     "output_type": "execute_result"
    }
   ],
   "source": [
    "X"
   ]
  }
 ],
 "metadata": {
  "kernelspec": {
   "display_name": "Python [conda env:opt] *",
   "language": "python",
   "name": "conda-env-opt-py"
  },
  "language_info": {
   "codemirror_mode": {
    "name": "ipython",
    "version": 3
   },
   "file_extension": ".py",
   "mimetype": "text/x-python",
   "name": "python",
   "nbconvert_exporter": "python",
   "pygments_lexer": "ipython3",
   "version": "3.8.5"
  }
 },
 "nbformat": 4,
 "nbformat_minor": 5
}
